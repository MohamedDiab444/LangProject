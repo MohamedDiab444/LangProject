{
  "cells": [
    {
      "cell_type": "markdown",
      "metadata": {
        "id": "4aqU3DDs_kIv"
      },
      "source": [
        "Using semantic vectors to decode brain activation"
      ]
    },
    {
      "cell_type": "code",
      "execution_count": null,
      "metadata": {
        "colab": {
          "base_uri": "https://localhost:8080/"
        },
        "id": "0wARqaPk-GHt",
        "outputId": "73b19d41-e014-4b6c-b9d4-aa17dda5a2b0"
      },
      "outputs": [
        {
          "output_type": "stream",
          "name": "stdout",
          "text": [
            "Installing specific library versions...\n",
            "Found existing installation: numpy 2.0.2\n",
            "Uninstalling numpy-2.0.2:\n",
            "  Successfully uninstalled numpy-2.0.2\n",
            "Found existing installation: scipy 1.16.1\n",
            "Uninstalling scipy-1.16.1:\n",
            "  Successfully uninstalled scipy-1.16.1\n",
            "\u001b[33mWARNING: Skipping gensim as it is not installed.\u001b[0m\u001b[33m\n",
            "\u001b[0mFound existing installation: transformers 4.55.0\n",
            "Uninstalling transformers-4.55.0:\n",
            "  Successfully uninstalled transformers-4.55.0\n",
            "Found existing installation: scikit-learn 1.6.1\n",
            "Uninstalling scikit-learn-1.6.1:\n",
            "  Successfully uninstalled scikit-learn-1.6.1\n",
            "Found existing installation: torch 2.6.0+cu124\n",
            "Uninstalling torch-2.6.0+cu124:\n",
            "  Successfully uninstalled torch-2.6.0+cu124\n",
            "Found existing installation: torchvision 0.21.0+cu124\n",
            "Uninstalling torchvision-0.21.0+cu124:\n",
            "  Successfully uninstalled torchvision-0.21.0+cu124\n",
            "Found existing installation: torchaudio 2.6.0+cu124\n",
            "Uninstalling torchaudio-2.6.0+cu124:\n",
            "  Successfully uninstalled torchaudio-2.6.0+cu124\n",
            "\u001b[2K     \u001b[90m━━━━━━━━━━━━━━━━━━━━━━━━━━━━━━━━━━━━━━━━\u001b[0m \u001b[32m61.0/61.0 kB\u001b[0m \u001b[31m2.4 MB/s\u001b[0m eta \u001b[36m0:00:00\u001b[0m\n",
            "\u001b[2K   \u001b[90m━━━━━━━━━━━━━━━━━━━━━━━━━━━━━━━━━━━━━━━━\u001b[0m \u001b[32m18.3/18.3 MB\u001b[0m \u001b[31m64.1 MB/s\u001b[0m eta \u001b[36m0:00:00\u001b[0m\n",
            "\u001b[?25h\u001b[31mERROR: pip's dependency resolver does not currently take into account all the packages that are installed. This behaviour is the source of the following dependency conflicts.\n",
            "libpysal 4.13.0 requires scikit-learn>=1.1, which is not installed.\n",
            "libpysal 4.13.0 requires scipy>=1.8, which is not installed.\n",
            "lightgbm 4.6.0 requires scipy, which is not installed.\n",
            "xarray-einstats 0.9.1 requires scipy>=1.11, which is not installed.\n",
            "tsfresh 0.21.0 requires scikit-learn>=0.22.0, which is not installed.\n",
            "tsfresh 0.21.0 requires scipy>=1.14.0; python_version >= \"3.10\", which is not installed.\n",
            "xgboost 3.0.4 requires scipy, which is not installed.\n",
            "clarabel 0.11.1 requires scipy, which is not installed.\n",
            "umap-learn 0.5.9.post2 requires scikit-learn>=1.6, which is not installed.\n",
            "umap-learn 0.5.9.post2 requires scipy>=1.3.1, which is not installed.\n",
            "imbalanced-learn 0.13.0 requires scikit-learn<2,>=1.3.2, which is not installed.\n",
            "imbalanced-learn 0.13.0 requires scipy<2,>=1.10.1, which is not installed.\n",
            "osqp 1.0.4 requires scipy>=0.13.2, which is not installed.\n",
            "pytensor 2.31.7 requires scipy<2,>=1, which is not installed.\n",
            "scikit-image 0.25.2 requires scipy>=1.11.4, which is not installed.\n",
            "pymc 5.25.1 requires scipy>=1.4.1, which is not installed.\n",
            "treelite 4.4.1 requires scipy, which is not installed.\n",
            "albumentations 2.0.8 requires scipy>=1.10.0, which is not installed.\n",
            "yellowbrick 1.5 requires scikit-learn>=1.0.0, which is not installed.\n",
            "yellowbrick 1.5 requires scipy>=1.0.0, which is not installed.\n",
            "sklearn-pandas 2.2.0 requires scikit-learn>=0.23.0, which is not installed.\n",
            "sklearn-pandas 2.2.0 requires scipy>=1.5.1, which is not installed.\n",
            "mizani 0.13.5 requires scipy>=1.8.0, which is not installed.\n",
            "cvxpy 1.6.7 requires scipy>=1.11.0, which is not installed.\n",
            "librosa 0.11.0 requires scikit-learn>=1.1.0, which is not installed.\n",
            "librosa 0.11.0 requires scipy>=1.6.0, which is not installed.\n",
            "scs 3.2.8 requires scipy, which is not installed.\n",
            "cuml-cu12 25.6.0 requires scikit-learn>=1.5, which is not installed.\n",
            "cuml-cu12 25.6.0 requires scipy>=1.8.0, which is not installed.\n",
            "mlxtend 0.23.4 requires scikit-learn>=1.3.1, which is not installed.\n",
            "mlxtend 0.23.4 requires scipy>=1.2.1, which is not installed.\n",
            "jaxlib 0.5.3 requires scipy>=1.11.1, which is not installed.\n",
            "plotnine 0.14.5 requires scipy>=1.8.0, which is not installed.\n",
            "peft 0.17.0 requires torch>=1.13.0, which is not installed.\n",
            "peft 0.17.0 requires transformers, which is not installed.\n",
            "jax 0.5.3 requires scipy>=1.11.1, which is not installed.\n",
            "missingno 0.5.2 requires scipy, which is not installed.\n",
            "arviz 0.22.0 requires scipy>=1.11.0, which is not installed.\n",
            "matplotlib-venn 1.1.2 requires scipy, which is not installed.\n",
            "statsmodels 0.14.5 requires scipy!=1.9.2,>=1.8, which is not installed.\n",
            "accelerate 1.10.0 requires torch>=2.0.0, which is not installed.\n",
            "hyperopt 0.2.7 requires scipy, which is not installed.\n",
            "shap 0.48.0 requires scikit-learn, which is not installed.\n",
            "shap 0.48.0 requires scipy, which is not installed.\n",
            "stumpy 1.13.0 requires scipy>=1.10, which is not installed.\n",
            "hdbscan 0.8.40 requires scikit-learn>=0.20, which is not installed.\n",
            "hdbscan 0.8.40 requires scipy>=1.0, which is not installed.\n",
            "fastai 2.7.19 requires scikit-learn, which is not installed.\n",
            "fastai 2.7.19 requires scipy, which is not installed.\n",
            "fastai 2.7.19 requires torch<2.7,>=1.10, which is not installed.\n",
            "fastai 2.7.19 requires torchvision>=0.11, which is not installed.\n",
            "thinc 8.3.6 requires numpy<3.0.0,>=2.0.0, but you have numpy 1.26.4 which is incompatible.\n",
            "opencv-contrib-python 4.12.0.88 requires numpy<2.3.0,>=2; python_version >= \"3.9\", but you have numpy 1.26.4 which is incompatible.\n",
            "opencv-python-headless 4.12.0.88 requires numpy<2.3.0,>=2; python_version >= \"3.9\", but you have numpy 1.26.4 which is incompatible.\n",
            "opencv-python 4.12.0.88 requires numpy<2.3.0,>=2; python_version >= \"3.9\", but you have numpy 1.26.4 which is incompatible.\u001b[0m\u001b[31m\n",
            "\u001b[2K     \u001b[90m━━━━━━━━━━━━━━━━━━━━━━━━━━━━━━━━━━━━━━━\u001b[0m \u001b[32m131.1/131.1 kB\u001b[0m \u001b[31m3.3 MB/s\u001b[0m eta \u001b[36m0:00:00\u001b[0m\n",
            "\u001b[2K   \u001b[90m━━━━━━━━━━━━━━━━━━━━━━━━━━━━━━━━━━━━━━━━\u001b[0m \u001b[32m8.5/8.5 MB\u001b[0m \u001b[31m44.6 MB/s\u001b[0m eta \u001b[36m0:00:00\u001b[0m\n",
            "\u001b[2K   \u001b[90m━━━━━━━━━━━━━━━━━━━━━━━━━━━━━━━━━━━━━━━━\u001b[0m \u001b[32m3.6/3.6 MB\u001b[0m \u001b[31m85.5 MB/s\u001b[0m eta \u001b[36m0:00:00\u001b[0m\n",
            "\u001b[?25h\u001b[31mERROR: pip's dependency resolver does not currently take into account all the packages that are installed. This behaviour is the source of the following dependency conflicts.\n",
            "sentence-transformers 5.1.0 requires scikit-learn, which is not installed.\n",
            "sentence-transformers 5.1.0 requires scipy, which is not installed.\n",
            "sentence-transformers 5.1.0 requires torch>=1.11.0, which is not installed.\n",
            "peft 0.17.0 requires torch>=1.13.0, which is not installed.\n",
            "sentence-transformers 5.1.0 requires transformers<5.0.0,>=4.41.0, but you have transformers 4.38.0 which is incompatible.\u001b[0m\u001b[31m\n",
            "\u001b[2K   \u001b[90m━━━━━━━━━━━━━━━━━━━━━━━━━━━━━━━━━━━━━━━━\u001b[0m \u001b[32m670.2/670.2 MB\u001b[0m \u001b[31m2.0 MB/s\u001b[0m eta \u001b[36m0:00:00\u001b[0m\n",
            "\u001b[2K   \u001b[90m━━━━━━━━━━━━━━━━━━━━━━━━━━━━━━━━━━━━━━━━\u001b[0m \u001b[32m410.6/410.6 MB\u001b[0m \u001b[31m4.2 MB/s\u001b[0m eta \u001b[36m0:00:00\u001b[0m\n",
            "\u001b[2K   \u001b[90m━━━━━━━━━━━━━━━━━━━━━━━━━━━━━━━━━━━━━━━━\u001b[0m \u001b[32m14.1/14.1 MB\u001b[0m \u001b[31m61.2 MB/s\u001b[0m eta \u001b[36m0:00:00\u001b[0m\n",
            "\u001b[2K   \u001b[90m━━━━━━━━━━━━━━━━━━━━━━━━━━━━━━━━━━━━━━━━\u001b[0m \u001b[32m23.7/23.7 MB\u001b[0m \u001b[31m36.2 MB/s\u001b[0m eta \u001b[36m0:00:00\u001b[0m\n",
            "\u001b[2K   \u001b[90m━━━━━━━━━━━━━━━━━━━━━━━━━━━━━━━━━━━━━━━━\u001b[0m \u001b[32m823.6/823.6 kB\u001b[0m \u001b[31m31.8 MB/s\u001b[0m eta \u001b[36m0:00:00\u001b[0m\n",
            "\u001b[2K   \u001b[90m━━━━━━━━━━━━━━━━━━━━━━━━━━━━━━━━━━━━━━━━\u001b[0m \u001b[32m731.7/731.7 MB\u001b[0m \u001b[31m2.0 MB/s\u001b[0m eta \u001b[36m0:00:00\u001b[0m\n",
            "\u001b[2K   \u001b[90m━━━━━━━━━━━━━━━━━━━━━━━━━━━━━━━━━━━━━━━━\u001b[0m \u001b[32m121.6/121.6 MB\u001b[0m \u001b[31m7.6 MB/s\u001b[0m eta \u001b[36m0:00:00\u001b[0m\n",
            "\u001b[2K   \u001b[90m━━━━━━━━━━━━━━━━━━━━━━━━━━━━━━━━━━━━━━━━\u001b[0m \u001b[32m56.5/56.5 MB\u001b[0m \u001b[31m12.7 MB/s\u001b[0m eta \u001b[36m0:00:00\u001b[0m\n",
            "\u001b[2K   \u001b[90m━━━━━━━━━━━━━━━━━━━━━━━━━━━━━━━━━━━━━━━━\u001b[0m \u001b[32m124.2/124.2 MB\u001b[0m \u001b[31m7.8 MB/s\u001b[0m eta \u001b[36m0:00:00\u001b[0m\n",
            "\u001b[2K   \u001b[90m━━━━━━━━━━━━━━━━━━━━━━━━━━━━━━━━━━━━━━━━\u001b[0m \u001b[32m196.0/196.0 MB\u001b[0m \u001b[31m5.9 MB/s\u001b[0m eta \u001b[36m0:00:00\u001b[0m\n",
            "\u001b[2K   \u001b[90m━━━━━━━━━━━━━━━━━━━━━━━━━━━━━━━━━━━━━━━━\u001b[0m \u001b[32m209.8/209.8 MB\u001b[0m \u001b[31m5.8 MB/s\u001b[0m eta \u001b[36m0:00:00\u001b[0m\n",
            "\u001b[2K   \u001b[90m━━━━━━━━━━━━━━━━━━━━━━━━━━━━━━━━━━━━━━━━\u001b[0m \u001b[32m99.1/99.1 kB\u001b[0m \u001b[31m5.8 MB/s\u001b[0m eta \u001b[36m0:00:00\u001b[0m\n",
            "\u001b[2K   \u001b[90m━━━━━━━━━━━━━━━━━━━━━━━━━━━━━━━━━━━━━━━━\u001b[0m \u001b[32m89.2/89.2 MB\u001b[0m \u001b[31m8.5 MB/s\u001b[0m eta \u001b[36m0:00:00\u001b[0m\n",
            "\u001b[?25h\u001b[31mERROR: pip's dependency resolver does not currently take into account all the packages that are installed. This behaviour is the source of the following dependency conflicts.\n",
            "xgboost 3.0.4 requires scipy, which is not installed.\n",
            "cuml-cu12 25.6.0 requires scikit-learn>=1.5, which is not installed.\n",
            "cuml-cu12 25.6.0 requires scipy>=1.8.0, which is not installed.\n",
            "sentence-transformers 5.1.0 requires scikit-learn, which is not installed.\n",
            "sentence-transformers 5.1.0 requires scipy, which is not installed.\n",
            "timm 1.0.19 requires torchvision, which is not installed.\n",
            "fastai 2.7.19 requires scikit-learn, which is not installed.\n",
            "fastai 2.7.19 requires scipy, which is not installed.\n",
            "fastai 2.7.19 requires torchvision>=0.11, which is not installed.\n",
            "raft-dask-cu12 25.6.0 requires nvidia-nccl-cu12>=2.19, but you have nvidia-nccl-cu12 2.18.1 which is incompatible.\n",
            "libraft-cu12 25.6.0 requires nvidia-nccl-cu12>=2.19, but you have nvidia-nccl-cu12 2.18.1 which is incompatible.\n",
            "libcuvs-cu12 25.6.1 requires nvidia-nccl-cu12>=2.19, but you have nvidia-nccl-cu12 2.18.1 which is incompatible.\n",
            "sentence-transformers 5.1.0 requires transformers<5.0.0,>=4.41.0, but you have transformers 4.38.0 which is incompatible.\u001b[0m\u001b[31m\n",
            "\u001b[2K     \u001b[90m━━━━━━━━━━━━━━━━━━━━━━━━━━━━━━━━━━━━━━━\u001b[0m \u001b[32m781.0/781.0 MB\u001b[0m \u001b[31m2.6 MB/s\u001b[0m eta \u001b[36m0:00:00\u001b[0m\n",
            "\u001b[2K     \u001b[90m━━━━━━━━━━━━━━━━━━━━━━━━━━━━━━━━━━━━━━━━\u001b[0m \u001b[32m7.0/7.0 MB\u001b[0m \u001b[31m76.4 MB/s\u001b[0m eta \u001b[36m0:00:00\u001b[0m\n",
            "\u001b[2K     \u001b[90m━━━━━━━━━━━━━━━━━━━━━━━━━━━━━━━━━━━━━━━━\u001b[0m \u001b[32m3.4/3.4 MB\u001b[0m \u001b[31m23.3 MB/s\u001b[0m eta \u001b[36m0:00:00\u001b[0m\n",
            "\u001b[2K     \u001b[90m━━━━━━━━━━━━━━━━━━━━━━━━━━━━━━━━━━━━━━━\u001b[0m \u001b[32m176.2/176.2 MB\u001b[0m \u001b[31m6.6 MB/s\u001b[0m eta \u001b[36m0:00:00\u001b[0m\n",
            "\u001b[2K     \u001b[90m━━━━━━━━━━━━━━━━━━━━━━━━━━━━━━━━━━━━━━━\u001b[0m \u001b[32m168.1/168.1 MB\u001b[0m \u001b[31m6.1 MB/s\u001b[0m eta \u001b[36m0:00:00\u001b[0m\n",
            "\u001b[?25h\u001b[31mERROR: pip's dependency resolver does not currently take into account all the packages that are installed. This behaviour is the source of the following dependency conflicts.\n",
            "xgboost 3.0.4 requires scipy, which is not installed.\n",
            "cuml-cu12 25.6.0 requires scikit-learn>=1.5, which is not installed.\n",
            "cuml-cu12 25.6.0 requires scipy>=1.8.0, which is not installed.\n",
            "sentence-transformers 5.1.0 requires scikit-learn, which is not installed.\n",
            "sentence-transformers 5.1.0 requires scipy, which is not installed.\n",
            "fastai 2.7.19 requires scikit-learn, which is not installed.\n",
            "fastai 2.7.19 requires scipy, which is not installed.\n",
            "sentence-transformers 5.1.0 requires transformers<5.0.0,>=4.41.0, but you have transformers 4.38.0 which is incompatible.\u001b[0m\u001b[31m\n",
            "\u001b[2K     \u001b[90m━━━━━━━━━━━━━━━━━━━━━━━━━━━━━━━━━━━━━━━━\u001b[0m \u001b[32m58.9/58.9 kB\u001b[0m \u001b[31m2.0 MB/s\u001b[0m eta \u001b[36m0:00:00\u001b[0m\n",
            "\u001b[2K   \u001b[90m━━━━━━━━━━━━━━━━━━━━━━━━━━━━━━━━━━━━━━━━\u001b[0m \u001b[32m34.1/34.1 MB\u001b[0m \u001b[31m45.6 MB/s\u001b[0m eta \u001b[36m0:00:00\u001b[0m\n",
            "\u001b[?25h\u001b[31mERROR: pip's dependency resolver does not currently take into account all the packages that are installed. This behaviour is the source of the following dependency conflicts.\n",
            "libpysal 4.13.0 requires scikit-learn>=1.1, which is not installed.\n",
            "pynndescent 0.5.13 requires scikit-learn>=0.18, which is not installed.\n",
            "tsfresh 0.21.0 requires scikit-learn>=0.22.0, which is not installed.\n",
            "umap-learn 0.5.9.post2 requires scikit-learn>=1.6, which is not installed.\n",
            "imbalanced-learn 0.13.0 requires scikit-learn<2,>=1.3.2, which is not installed.\n",
            "yellowbrick 1.5 requires scikit-learn>=1.0.0, which is not installed.\n",
            "sklearn-pandas 2.2.0 requires scikit-learn>=0.23.0, which is not installed.\n",
            "librosa 0.11.0 requires scikit-learn>=1.1.0, which is not installed.\n",
            "cuml-cu12 25.6.0 requires scikit-learn>=1.5, which is not installed.\n",
            "mlxtend 0.23.4 requires scikit-learn>=1.3.1, which is not installed.\n",
            "sentence-transformers 5.1.0 requires scikit-learn, which is not installed.\n",
            "shap 0.48.0 requires scikit-learn, which is not installed.\n",
            "hdbscan 0.8.40 requires scikit-learn>=0.20, which is not installed.\n",
            "fastai 2.7.19 requires scikit-learn, which is not installed.\n",
            "xarray-einstats 0.9.1 requires scipy>=1.11, but you have scipy 1.10.1 which is incompatible.\n",
            "tsfresh 0.21.0 requires scipy>=1.14.0; python_version >= \"3.10\", but you have scipy 1.10.1 which is incompatible.\n",
            "scikit-image 0.25.2 requires scipy>=1.11.4, but you have scipy 1.10.1 which is incompatible.\n",
            "cvxpy 1.6.7 requires scipy>=1.11.0, but you have scipy 1.10.1 which is incompatible.\n",
            "jaxlib 0.5.3 requires scipy>=1.11.1, but you have scipy 1.10.1 which is incompatible.\n",
            "sentence-transformers 5.1.0 requires transformers<5.0.0,>=4.41.0, but you have transformers 4.38.0 which is incompatible.\n",
            "jax 0.5.3 requires scipy>=1.11.1, but you have scipy 1.10.1 which is incompatible.\n",
            "arviz 0.22.0 requires scipy>=1.11.0, but you have scipy 1.10.1 which is incompatible.\u001b[0m\u001b[31m\n",
            "\u001b[2K   \u001b[90m━━━━━━━━━━━━━━━━━━━━━━━━━━━━━━━━━━━━━━━━\u001b[0m \u001b[32m12.1/12.1 MB\u001b[0m \u001b[31m75.9 MB/s\u001b[0m eta \u001b[36m0:00:00\u001b[0m\n",
            "\u001b[?25h\u001b[31mERROR: pip's dependency resolver does not currently take into account all the packages that are installed. This behaviour is the source of the following dependency conflicts.\n",
            "tsfresh 0.21.0 requires scipy>=1.14.0; python_version >= \"3.10\", but you have scipy 1.10.1 which is incompatible.\n",
            "umap-learn 0.5.9.post2 requires scikit-learn>=1.6, but you have scikit-learn 1.4.2 which is incompatible.\n",
            "cuml-cu12 25.6.0 requires scikit-learn>=1.5, but you have scikit-learn 1.4.2 which is incompatible.\n",
            "sentence-transformers 5.1.0 requires transformers<5.0.0,>=4.41.0, but you have transformers 4.38.0 which is incompatible.\u001b[0m\u001b[31m\n",
            "\u001b[2K   \u001b[90m━━━━━━━━━━━━━━━━━━━━━━━━━━━━━━━━━━━━━━━━\u001b[0m \u001b[32m26.6/26.6 MB\u001b[0m \u001b[31m73.7 MB/s\u001b[0m eta \u001b[36m0:00:00\u001b[0m\n",
            "\u001b[?25hInstallation complete. PLEASE RESTART THE RUNTIME NOW from the menu.\n"
          ]
        }
      ],
      "source": [
        "# SETUP CELL\n",
        "# Run before the first restart\n",
        "print(\"Installing specific library versions...\")\n",
        "!pip uninstall -y numpy scipy gensim transformers scikit-learn torch torchvision torchaudio\n",
        "\n",
        "!pip install -q numpy==1.26.4\n",
        "!pip install -q transformers==4.38.0\n",
        "!pip install -q torch==2.1.0\n",
        "!pip install torch==2.3.0 torchvision==0.18.0 torchaudio==2.3.0 --index-url https://download.pytorch.org/whl/cu121 --quiet\n",
        "!pip install -q scipy==1.10.1\n",
        "!pip install -q scikit-learn==1.4.2\n",
        "!pip install -q gensim==4.3.1\n",
        "\n",
        "print(\"Installation complete. PLEASE RESTART THE RUNTIME NOW from the menu.\")"
      ]
    },
    {
      "cell_type": "code",
      "execution_count": null,
      "metadata": {
        "colab": {
          "base_uri": "https://localhost:8080/"
        },
        "id": "WIiM1sgY-N2H",
        "outputId": "fd72cc26-49a0-4dd0-a426-6d5edbc37164"
      },
      "outputs": [
        {
          "output_type": "stream",
          "name": "stdout",
          "text": [
            "Using device: cpu\n"
          ]
        }
      ],
      "source": [
        "import torch\n",
        "device = torch.device(\"cuda\" if torch.cuda.is_available() else \"cpu\")\n",
        "print(f\"Using device: {device}\")"
      ]
    },
    {
      "cell_type": "code",
      "execution_count": null,
      "metadata": {
        "colab": {
          "base_uri": "https://localhost:8080/"
        },
        "id": "SXFQAUmC8NgY",
        "outputId": "ae794152-1d14-4ca7-d61e-317745830ab0"
      },
      "outputs": [
        {
          "output_type": "stream",
          "name": "stdout",
          "text": [
            "Mounting Google Drive...\n",
            "Mounted at /content/drive\n",
            "Drive mounted.\n",
            "Downloading HW3 zip file...\n",
            "--2025-08-15 13:06:53--  https://drive.usercontent.google.com/download?id=1xZaorRH-xxjfochvSesAhOTUg82_Xq56&export=download&authuser=0&confirm=t&uuid=efeb9ce5-a5c5-453b-938d-6c0ece963f3c&at=APZUnTV18b5mSao0MQ2JbtpefTxr%3A1719665236172\n",
            "Resolving drive.usercontent.google.com (drive.usercontent.google.com)... 192.178.219.132, 2607:f8b0:400c:c0d::84\n",
            "Connecting to drive.usercontent.google.com (drive.usercontent.google.com)|192.178.219.132|:443... connected.\n",
            "HTTP request sent, awaiting response... 200 OK\n",
            "Length: 97708666 (93M) [application/octet-stream]\n",
            "Saving to: ‘files.zip’\n",
            "\n",
            "files.zip           100%[===================>]  93.18M  94.4MB/s    in 1.0s    \n",
            "\n",
            "2025-08-15 13:06:55 (94.4 MB/s) - ‘files.zip’ saved [97708666/97708666]\n",
            "\n",
            "Archive:  files.zip\n",
            "  inflating: stimuli_180concepts.txt  \n",
            "  inflating: learn_decoder.py        \n",
            "  inflating: vectors_180concepts.GV42B300.txt  \n",
            "  inflating: imaging_data.csv        \n",
            "HW3 files are ready.\n",
            "[==================================================] 100.0% 1662.8/1662.8MB downloaded\n"
          ]
        }
      ],
      "source": [
        "# DATA STAGING\n",
        "# Ensures all data files are available in /content/.\n",
        "from google.colab import drive\n",
        "import os\n",
        "import gensim.downloader as api\n",
        "\n",
        "# 1. Mount Google Drive\n",
        "print(\"Mounting Google Drive...\")\n",
        "drive.mount('/content/drive')\n",
        "PROJECT_PATH = \"/content/drive/MyDrive/Project 2/Structured Task (sentence decoding)\"\n",
        "print(\"Drive mounted.\")\n",
        "\n",
        "\n",
        "# 2. Download for HW3 files (using the robust wget command)\n",
        "if not os.path.exists('stimuli_180concepts.txt'):\n",
        "    print(\"Downloading HW3 zip file...\")\n",
        "    !wget --header=\"Host: drive.usercontent.google.com\" --header=\"Accept: text/html,application/xhtml+xml,application/xml;q=0.9,image/avif,image/webp,image/apng,*/*;q=0.8,application/signed-exchange;v=b3;q=0.7\" --header=\"Accept-Language: en-US,en;q=0.9,he;q=0.8\" --header=\"Cookie: HSID=AHJfxja1o67aaDDKP; SSID=AcFaYUEeiC88MwrF9; APISID=-FXvHmBvJ828Jrpq/AaIp_RI6gKwBAA-zy; SAPISID=_psqReiv0O2WdiVv/AhLpZThJtVNAPgAJP; __Secure-1PAPISID=_psqReiv0O2WdiVv/AhLpZThJtVNAPgAJP; __Secure-3PAPISID=_psqReiv0O2WdiVv/AhLpZThJtVNAPgAJP; S=billing-ui-v3=pX9aAWC8SzxQZfQvQ-0SbCFRz65PPkVY:billing-ui-v3-efe=pX9aAWC8SzxQZfQvQ-0SbCFRz65PPkVY:maestro=dsv3G-owxPD6uTATLH0lBQZNadhFo6ZKJiuB9usoQVU; __Secure-BUCKET=CPgG; SID=g.a000kggtmVDh8D92rqHe5fiG-bMoXQw7Ld8Tf_C8qHhSE2ZoFUyx_uObP_F4bCqI8I561ccGMwACgYKAWESARQSFQHGX2Mi5DnhBiJ2gjjbMSP0XJbU5BoVAUF8yKrlBjWMdNOfGnmA7TZzmbWD0076; __Secure-1PSID=g.a000kggtmVDh8D92rqHe5fiG-bMoXQw7Ld8Tf_C8qHhSE2ZoFUyx2BFINS8lXhFUyAFwuvl8CQACgYKAW4SARQSFQHGX2MiWd6bHkI0JN89-1dFZUbS2hoVAUF8yKpc-H3AD8N6tj-dmFG21SeE0076; __Secure-3PSID=g.a000kggtmVDh8D92rqHe5fiG-bMoXQw7Ld8Tf_C8qHhSE2ZoFUyxJl_TGsCsjeiVN72q3lSCWQACgYKASASARQSFQHGX2MiULluXa7aABDwxgCWjB6IyhoVAUF8yKoy_HHYLCqIFMwNjx-GwYWe0076; __Secure-ENID=20.SE=jyM_w2hA8DW6FvPOh9wudde93a0A9P41Epzo098LV_LyU79-VVcJ9K-vNLrhCLuVzi69CyV4RxlSls8AAT9J8odwIXi_ISVn8Z1U1DH52BC3YiwOwO9LKUsBesCbGx2D6u1XwZ5GIP_PZMo1tkLLJq2VCtcxRP9OtC_QgHNbAD4eyc1TTu1C8XbZLFTOIgb0k9IfM2bMBXeha6t3sJysARZWpDIzs3I8wWZ5JtABB253grtjQyCnxyy9MUgTcYAVaoEGwgVHV4V4lSY6gydFkO2gYxl7JqYloqCq74HahGK54TBlsGZIOTM_KvFAsIidcrPaVOBpH6IGQTPChxy3Tr-GLK7VpBiQ8JW7V0xC8XTN1crEaaZnGFQ6MrjDv8f3hCY0Kg; AEC=AQTF6HwEtUB747fVHMzvOWJV9pmRoGs8Ix8FJ1HTrxbE9NY1dtyro2AvNQ; NID=515=Wdt0NWZqVSh3TtdIfjXCGTCCkj7jaJjt-lkOL3hLD_hPSSMyGxKkVthECwGGFbbxmvfM2iKZ1SkPGDVgLwjghAOrV9Ya7iEJJ0eSXZSfszc0WxRXm3Jy6LxqPEZLmY8v3AIkMX-o8KE5ZRXGEzgv_s9pfgS8bmeiIGT13Iiyw9tPzRZDChGijNbZ0Mp1oF-4YKikOZCyo8Km9wXOgLAC9dbeIqAlTdER97cQ7B5GajyRLH_bFrg0lCVN4tyZEycjihHOu6Eq_V88rswgV7uvzemJ_yk4WbbIWJVm9NCO4tWdDQG8NY3EY57xAJbmIhu260jDftYwzjCnpqJ8C1iCm-FjboF6xJwKJEtLkCXagIcSWxfPGqRWIn5KY72ogAMZTlUZ5RE5F8bH4sFgkt5pW_AalY5mxYPOfZgF-9hcJYsF71rMOic6mqSfvR8iNo-k6_SZ-4o5WkYxbwdLgiaIOiCJHkhIGBoXsm5hh5BHDqlk5ERGnFn5zpqOguNLJFjXT3nhaP1g_a2fFvd0bmZw2A9Y6tBNAC7CbDOmSHSmYmLag0qVcqu286CZh5svuhdM-QPcSCt5u0kPgfWN3KBha0G9L9qCiDIwntvnlVNoUYLBM4je1bhGjO9M2tdH_vteLo4vjm9Cq-4I2A; __Secure-1PSIDTS=sidts-CjIB3EgAEi6AJoaJlu_IOdqmparuSFUne3RqD5YKK5hcqKjRlc0CTp9lSpyH2OoVVoqmlxAA; __Secure-3PSIDTS=sidts-CjIB3EgAEi6AJoaJlu_IOdqmparuSFUne3RqD5YKK5hcqKjRlc0CTp9lSpyH2OoVVoqmlxAA; SIDCC=AKEyXzW7IJ8miV8hX_pqzqqPW7--eMWuWfausspLBoDPlfZDCRZDED56ohpancLYOBPizfUzi1aM; __Secure-1PSIDCC=AKEyXzVGnmSuG07J22njRVFPQ_sk88MgnqtYxJd-M0_9Pz3jdh4GpGPhPOqCMrayTU9SJTW3n54; __Secure-3PSIDCC=AKEyXzVScJYbKdtIImPYKpTRkExsc5UhC5n9Rkk8wNFlMZNW3_xkvWlimAXWaZ4T7kTcJy5AE4I\" --header=\"Connection: keep-alive\" \"https://drive.usercontent.google.com/download?id=1xZaorRH-xxjfochvSesAhOTUg82_Xq56&export=download&authuser=0&confirm=t&uuid=efeb9ce5-a5c5-453b-938d-6c0ece963f3c&at=APZUnTV18b5mSao0MQ2JbtpefTxr%3A1719665236172\" -c -O 'files.zip'\n",
        "    !unzip files.zip\n",
        "    !rm files.zip\n",
        "    print(\"HW3 files are ready.\")\n",
        "else:\n",
        "    print(\"HW3 files already exist.\")\n",
        "\n",
        "\n",
        "# 3. Download for the big Word2Vec model\n",
        "word2vec_model_path = api.load('word2vec-google-news-300', return_path=True)"
      ]
    },
    {
      "cell_type": "code",
      "execution_count": null,
      "metadata": {
        "colab": {
          "base_uri": "https://localhost:8080/"
        },
        "id": "lrcERnPp8VbR",
        "outputId": "b9515c84-5ba0-4457-bebc-f26f21d6e5de"
      },
      "outputs": [
        {
          "output_type": "stream",
          "name": "stdout",
          "text": [
            "All data is now loaded into variables.\n"
          ]
        }
      ],
      "source": [
        "# DATA LOADING CELL\n",
        "# Loads data from the files on disk into Python variables.\n",
        "# Run this after restarting the runtime.\n",
        "import numpy as np\n",
        "import pickle\n",
        "from gensim.models import KeyedVectors\n",
        "from learn_decoder import *\n",
        "\n",
        "# Loads HW3 data\n",
        "# Loads the functions from learn_decoder.py and the data\n",
        "data = read_matrix(\"imaging_data.csv\", sep=\",\")\n",
        "vectors = read_matrix(\"vectors_180concepts.GV42B300.txt\", sep=\" \")\n",
        "concepts = np.genfromtxt('stimuli_180concepts.txt', dtype=np.dtype('U')) #The names of the 180 concepts\n",
        "\n",
        "# Loads Exp 2 & 3 data from Drive\n",
        "with open(f\"{PROJECT_PATH}/EXP2.pkl\", \"rb\") as f:\n",
        "    exp2_data = pickle.load(f)\n",
        "with open(f\"{PROJECT_PATH}/EXP3.pkl\", \"rb\") as f:\n",
        "    exp3_data = pickle.load(f)\n",
        "\n",
        "# Loads the big Word2Vec model into a variable\n",
        "word2vec = KeyedVectors.load_word2vec_format(word2vec_model_path, binary=True)\n",
        "\n",
        "# From the Pereira et al. datasets in Drive\n",
        "PROJECT_PATH = \"/content/drive/MyDrive/Project 2/Structured Task (sentence decoding)\"\n",
        "X_train_decoder = np.loadtxt(f\"{PROJECT_PATH}/neuralData_for_EXP1.csv\", delimiter=\",\", skiprows=1)[:, 1:]\n",
        "with open(f\"{PROJECT_PATH}/EXP2.pkl\", \"rb\") as f:\n",
        "    exp2_data = pickle.load(f)\n",
        "X_exp2 = exp2_data['Fmridata']\n",
        "\n",
        "with open(f\"{PROJECT_PATH}/EXP3.pkl\", \"rb\") as f:\n",
        "    exp3_data = pickle.load(f)\n",
        "X_exp3 = exp3_data[\"Fmridata\"]\n",
        "\n",
        "Z_glove_exp2 = np.loadtxt(f\"{PROJECT_PATH}/vectors_384sentences.GV42B300.average.txt\")\n",
        "Z_glove_exp3 = np.loadtxt(f\"{PROJECT_PATH}/vectors_243sentences.GV42B300.average.txt\")\n",
        "\n",
        "# Loads the actual sentences themselves\n",
        "with open(f\"{PROJECT_PATH}/stimuli_243sentences.txt\", \"r\") as f:\n",
        "    sentences_exp3 = [line.strip() for line in f.readlines()]\n",
        "\n",
        "print(\"All data is now loaded into variables.\")"
      ]
    },
    {
      "cell_type": "markdown",
      "metadata": {
        "id": "sIWqcFzpSjNj"
      },
      "source": [
        "### What are the Accuracy scores?"
      ]
    },
    {
      "cell_type": "markdown",
      "metadata": {
        "id": "xGLDercIBFSx"
      },
      "source": [
        "Define a function that computes rank-based accuracy score, then, iterate over the 18 folds. For each fold,  train the decoder **using the `learn_decoder` function** (the function is already imported from `learn_decoder.py`) on the fold train data, obtain the predicions on the fold test data, and store both the accuracy score of each concept (use the labels from `concepts`) as well as the average score of the 10 concepts.  "
      ]
    },
    {
      "cell_type": "code",
      "execution_count": null,
      "metadata": {
        "id": "C9iUCqU5LIsY"
      },
      "outputs": [],
      "source": [
        "# IMPORTS AND HELPER FUNCTIONS\n",
        "# Contains all necessary library imports and custom helper\n",
        "# functions for the entire project. Run it once after loading data.\n",
        "\n",
        "from collections import defaultdict\n",
        "import numpy as np\n",
        "import pickle\n",
        "import gc\n",
        "from collections import defaultdict\n",
        "import matplotlib.pyplot as plt\n",
        "from transformers import BertTokenizer, BertModel\n",
        "import torch\n",
        "from sklearn.model_selection import KFold\n",
        "from sklearn.linear_model import LinearRegression\n",
        "from sklearn.metrics import r2_score\n",
        "from gensim.models import KeyedVectors\n",
        "\n",
        "def cosine_similarity(v1, v2):\n",
        "    \"\"\"\n",
        "    Calculates cosine similarity between two vectors, robustly handling\n",
        "    potential zero-norm vectors to prevent division-by-zero errors.\n",
        "    \"\"\"\n",
        "    norm1 = np.linalg.norm(v1)\n",
        "    norm2 = np.linalg.norm(v2)\n",
        "    if norm1 == 0 or norm2 == 0:\n",
        "        return 0.0  # Define similarity as 0 if one vector is all zeros\n",
        "    return np.dot(v1, v2) / (norm1 * norm2)\n",
        "\n",
        "def evaluate_decoder(data, vectors, concepts, k=18):\n",
        "  fold_size = data.shape[0] // k # Each fold holds out 10 concepts\n",
        "  avg_ranks = [] # Store average rank per fold\n",
        "  all_ranks = [] # Store all concept ranks per fold\n",
        "  concept_rankings = defaultdict(list) # Store per-concept ranks across folds\n",
        "\n",
        "  for fold in range(k):\n",
        "  # Define test and training indices\n",
        "    start = fold * fold_size\n",
        "    end = (fold + 1) * fold_size\n",
        "    test_idx = np.arange(start, end)\n",
        "    train_idx = np.setdiff1d(np.arange(data.shape[0]), test_idx)\n",
        "\n",
        "    # Split the data and vectors\n",
        "    train_data, test_data = data[train_idx], data[test_idx]\n",
        "    train_vectors, test_vectors = vectors[train_idx], vectors[test_idx]\n",
        "    test_concepts = concepts[test_idx]\n",
        "\n",
        "    # Train decoder on training set\n",
        "    M = learn_decoder(train_data, train_vectors)\n",
        "\n",
        "    # Decode test data (dot product with decoder matrix)\n",
        "    decoded = test_data @ M # Resulting shape: (10, 300)\n",
        "\n",
        "    # Compute rank for each test concept\n",
        "    ranks = []\n",
        "    for i in range(len(test_idx)):\n",
        "      true_vec = test_vectors[i] # Ground truth semantic vector\n",
        "      pred_vec = decoded[i] # Predicted semantic vector\n",
        "\n",
        "      # Cosine similarity to all vectors in dataset\n",
        "      sims = np.array([cosine_similarity(pred_vec, v) for v in vectors])\n",
        "\n",
        "      # Get rank of the true concept (1-based)\n",
        "      sorted_idx = np.argsort(sims)[::-1] # Descending order\n",
        "      rank = np.where(sorted_idx == test_idx[i])[0][0] + 1\n",
        "      ranks.append(rank)\n",
        "\n",
        "      # Store rank for this concept\n",
        "      concept_rankings[test_concepts[i]].append(rank)\n",
        "\n",
        "    # Store average and full ranks for this fold\n",
        "    avg_ranks.append(np.mean(ranks))\n",
        "    all_ranks.append(ranks)\n",
        "  return avg_ranks, all_ranks, concept_rankings"
      ]
    },
    {
      "cell_type": "markdown",
      "metadata": {
        "id": "r4P3Ub86IgcB"
      },
      "source": [
        "Now let's plot the averaged accuracy score for each fold  "
      ]
    },
    {
      "cell_type": "code",
      "execution_count": null,
      "metadata": {
        "colab": {
          "base_uri": "https://localhost:8080/",
          "height": 507
        },
        "id": "Z4HHdj5xIRnH",
        "outputId": "877d29be-a4d9-43c7-feb5-8aef09ddd1da"
      },
      "outputs": [
        {
          "output_type": "display_data",
          "data": {
            "text/plain": [
              "<Figure size 1000x500 with 1 Axes>"
            ],
            "image/png": "[encoded data removed]"
          },
          "metadata": {}
        }
      ],
      "source": [
        "import matplotlib.pyplot as plt\n",
        "\n",
        "avg_ranks, all_ranks, concept_rankings = evaluate_decoder(data, vectors, concepts)\n",
        "\n",
        "# Plotting the average rank scores\n",
        "plt.figure(figsize=(10, 5))\n",
        "plt.plot(range(1, 19), avg_ranks, marker='o', linestyle='-', color='blue')\n",
        "\n",
        "# Labels and title\n",
        "plt.title(\"Average Rank Accuracy per Fold\", fontsize=14)\n",
        "plt.xlabel(\"Fold Number\", fontsize=12)\n",
        "plt.ylabel(\"Average Rank\", fontsize=12)\n",
        "\n",
        "# A Horizontal line at the random baseline (rank 90)\n",
        "plt.axhline(y=90, color='red', linestyle='--', label='Chance Level')\n",
        "\n",
        "# Plot\n",
        "plt.xticks(range(1, 19))\n",
        "plt.grid(True)\n",
        "plt.legend()\n",
        "plt.tight_layout()\n",
        "plt.show()"
      ]
    },
    {
      "cell_type": "markdown",
      "metadata": {
        "id": "Rd3N7q3k_avH"
      },
      "source": [
        "### Which concepts can be decoded with more or less success?"
      ]
    },
    {
      "cell_type": "code",
      "execution_count": null,
      "metadata": {
        "colab": {
          "base_uri": "https://localhost:8080/"
        },
        "id": "fAhfAbjOJCtf",
        "outputId": "a67726ba-dba3-43bb-ef68-d2b55bbc2d93"
      },
      "outputs": [
        {
          "output_type": "stream",
          "name": "stdout",
          "text": [
            "Top 10 Best-Decoded Concepts:\n",
            "do                   | Avg Rank: 1.00\n",
            "food                 | Avg Rank: 1.00\n",
            "time                 | Avg Rank: 1.00\n",
            "great                | Avg Rank: 2.00\n",
            "laugh                | Avg Rank: 4.00\n",
            "stupid               | Avg Rank: 5.00\n",
            "lady                 | Avg Rank: 6.00\n",
            "left                 | Avg Rank: 6.00\n",
            "hair                 | Avg Rank: 7.00\n",
            "money                | Avg Rank: 7.00\n",
            "\n",
            " Top 10 Worst-Decoded Concepts:\n",
            "argumentatively      | Avg Rank: 180.00\n",
            "cockroach            | Avg Rank: 178.00\n",
            "applause             | Avg Rank: 175.00\n",
            "deceive              | Avg Rank: 171.00\n",
            "electron             | Avg Rank: 168.00\n",
            "dissolve             | Avg Rank: 164.00\n",
            "movie                | Avg Rank: 159.00\n",
            "elegance             | Avg Rank: 158.00\n",
            "usable               | Avg Rank: 158.00\n",
            "sew                  | Avg Rank: 157.00\n"
          ]
        }
      ],
      "source": [
        "# Compute average rank for each concept\n",
        "avg_rank_per_concept = {concept: np.mean(ranks) for concept, ranks in concept_rankings.items()}\n",
        "\n",
        "# Best decoded concepts (lowest average rank)\n",
        "best_decoded = sorted(avg_rank_per_concept.items(), key=lambda x: x[1])[:10]\n",
        "\n",
        "# Worst decoded concepts (highest average rank)\n",
        "worst_decoded = sorted(avg_rank_per_concept.items(), key=lambda x: x[1], reverse=True)[:10]\n",
        "\n",
        "print(\"Top 10 Best-Decoded Concepts:\")\n",
        "for concept, avg_rank in best_decoded:\n",
        "  print(f\"{concept:20s} | Avg Rank: {avg_rank:.2f}\")\n",
        "\n",
        "print(\"\\n Top 10 Worst-Decoded Concepts:\")\n",
        "for concept, avg_rank in worst_decoded:\n",
        "  print(f\"{concept:20s} | Avg Rank: {avg_rank:.2f}\")"
      ]
    },
    {
      "cell_type": "markdown",
      "metadata": {
        "id": "s9V_xx9GNJRa"
      },
      "source": [
        "The decoding results show a clear distinction between concepts that can be decoded accurately and\n",
        "those that are difficult for the model to identify.\n",
        "\n",
        "\n",
        "Best-Decoded Concepts:\n",
        "The following concepts consistently achieved very low average ranks, indicating that their predicted\n",
        "semantic vectors were very close to the true ones. Notably:\n",
        "\n",
        "do, food, and time had an average rank of 1.00, meaning they were the top prediction every time\n",
        "they appeared in a test fold.\n",
        "\n",
        "Other highly decodable concepts include great, laugh, stupid, lady, left, hair, and money, with\n",
        "average ranks between 2 and 7.\n",
        "\n",
        "These well-decoded concepts tend to be:\n",
        "\n",
        "Short, frequent words with strong, distinct semantic signatures.\n",
        "\n",
        "Often concrete or commonly used verbs/nouns (e.g., “food”, “money”, “do”).\n",
        "\n",
        "\n",
        "\n",
        "Worst-Decoded Concepts:\n",
        "\n",
        "In contrast, some concepts were extremely difficult to decode, consistently ranked far from their\n",
        "correct positions:\n",
        "\n",
        "argumentatively was ranked 180th (the worst possible rank) on average.\n",
        "\n",
        "Other poorly decoded concepts include cockroach, applause, deceive, electron, and dissolve, with\n",
        "average ranks ranging from 157 to 178.\n",
        "\n",
        "These poorly decoded items often share characteristics such as:\n",
        "\n",
        "Abstractness or rarity (e.g., “elegance”, “deceive”)\n",
        "\n",
        "Low frequency or complex morphology (e.g., “argumentatively”)\n",
        "\n",
        "Ambiguous or overlapping semantics (e.g., “applause” may be harder to distinguish from semanti-\n",
        "cally related but different words)"
      ]
    },
    {
      "cell_type": "markdown",
      "metadata": {
        "id": "3YMW7QzESqf2"
      },
      "source": [
        "### Are the results satisfactory, in your opinion? Why or why not?"
      ]
    },
    {
      "cell_type": "markdown",
      "metadata": {
        "id": "ZMBoho0S_iUU"
      },
      "source": [
        "The results are generally satisfactory, especially given the difficulty of decoding high-dimensional\n",
        "brain activity into meaningful semantic representations. While not perfect, the model shows a clear\n",
        "ability to decode common and concrete concepts with high accuracy, aligning well with findings\n",
        "from Pereira et al. (2018). However, performance drops for less frequent or more abstract words,\n",
        "indicating room for improvement."
      ]
    },
    {
      "cell_type": "markdown",
      "metadata": {
        "id": "t-pqa83Oo7zs"
      },
      "source": [
        "Create the Word2Vec Vector Matrix"
      ]
    },
    {
      "cell_type": "code",
      "execution_count": null,
      "metadata": {
        "colab": {
          "base_uri": "https://localhost:8080/"
        },
        "id": "tsxYh0r3cCsI",
        "outputId": "e814583c-604a-43dc-d163-8a902def837c"
      },
      "outputs": [
        {
          "output_type": "stream",
          "name": "stdout",
          "text": [
            "\n",
            "The following 1 words were not found and replaced with zeros:\n",
            "['argumentatively']\n"
          ]
        }
      ],
      "source": [
        "# Creating Word2Vec Matrix and Free Memory\n",
        "import gc\n",
        "\n",
        "# Initialize an empty list to store the vectors for our 180 words\n",
        "word2vec_vector_list = []\n",
        "missing_words = []\n",
        "\n",
        "# Loops through the 'concepts' list\n",
        "# and uses the large 'word2vec' model to get the vectors.\n",
        "for concept in concepts:\n",
        "    try:\n",
        "        word2vec_vector_list.append(word2vec[concept])\n",
        "    except KeyError:\n",
        "        # If a word isn't in the model, add a zero vector and note it.\n",
        "        word2vec_vector_list.append(np.zeros(300, dtype=np.float32))\n",
        "        missing_words.append(concept)\n",
        "\n",
        "# It has a shape of (180, 300)\n",
        "word2vec_vectors = np.array(word2vec_vector_list)\n",
        "\n",
        "if missing_words:\n",
        "    print(f\"\\nThe following {len(missing_words)} words were not found and replaced with zeros:\")\n",
        "    print(missing_words)\n",
        "else:\n",
        "    print(\"\\nAll 180 concept words were found in the Word2Vec vocabulary!\")"
      ]
    },
    {
      "cell_type": "markdown",
      "metadata": {
        "id": "11rbaSJ4o5HE"
      },
      "source": [
        "Re-run the Evaluation with Word2Vec Vectors"
      ]
    },
    {
      "cell_type": "code",
      "execution_count": null,
      "metadata": {
        "colab": {
          "base_uri": "https://localhost:8080/"
        },
        "id": "TntuZt4ZopAs",
        "outputId": "94fc4544-a6aa-4f86-94f2-427bc5e64103"
      },
      "outputs": [
        {
          "output_type": "stream",
          "name": "stdout",
          "text": [
            "Evaluating decoder using Word2Vec vectors...\n",
            "Evaluation with Word2Vec complete!\n"
          ]
        }
      ],
      "source": [
        "# We already have the GloVe results in: avg_ranks, all_ranks, concept_rankings\n",
        "\n",
        "# Now, run the same evaluation using the Word2Vec vectors\n",
        "print(\"Evaluating decoder using Word2Vec vectors...\")\n",
        "w2v_avg_ranks, w2v_all_ranks, w2v_concept_rankings = evaluate_decoder(data, word2vec_vectors, concepts)\n",
        "print(\"Evaluation with Word2Vec complete!\")"
      ]
    },
    {
      "cell_type": "markdown",
      "metadata": {
        "id": "k3xs6cyko_qk"
      },
      "source": [
        "Compare the Results (GloVe vs. Word2Vec)."
      ]
    },
    {
      "cell_type": "markdown",
      "metadata": {
        "id": "YdCU34p4pXNM"
      },
      "source": [
        "Visual Comparison"
      ]
    },
    {
      "cell_type": "code",
      "execution_count": null,
      "metadata": {
        "colab": {
          "base_uri": "https://localhost:8080/",
          "height": 676
        },
        "id": "IXwtjrJ3pABU",
        "outputId": "11e4f429-2cea-461f-99ba-01c1294d7400"
      },
      "outputs": [
        {
          "output_type": "display_data",
          "data": {
            "text/plain": [
              "<Figure size 1200x600 with 1 Axes>"
            ],
            "image/png": "[encoded data removed]"
          },
          "metadata": {}
        },
        {
          "output_type": "stream",
          "name": "stdout",
          "text": [
            "Overall Average Rank for GloVe: 61.91\n",
            "Overall Average Rank for Word2Vec: 61.08\n",
            "\n",
            "On average, Word2Vec performed better (lower rank is better).\n"
          ]
        }
      ],
      "source": [
        "import matplotlib.pyplot as plt\n",
        "\n",
        "# Plots the comparison\n",
        "plt.figure(figsize=(12, 6))\n",
        "\n",
        "# Plots the GloVe results\n",
        "plt.plot(range(1, 19), avg_ranks, marker='o', linestyle='-', color='blue', label='GloVe')\n",
        "\n",
        "# Plots the Word2Vec results\n",
        "plt.plot(range(1, 19), w2v_avg_ranks, marker='s', linestyle='--', color='green', label='Word2Vec')\n",
        "\n",
        "# Adds a horizontal line at the random baseline (rank 90)\n",
        "plt.axhline(y=90, color='red', linestyle=':', label='Chance Level (Rank 90)')\n",
        "\n",
        "# Adds labels and title\n",
        "plt.title(\"Decoder Performance: GloVe vs. Word2Vec\", fontsize=16)\n",
        "plt.xlabel(\"Fold Number\", fontsize=12)\n",
        "plt.ylabel(\"Average Rank\", fontsize=12)\n",
        "plt.xticks(range(1, 19))\n",
        "plt.grid(True, linestyle='--', alpha=0.6)\n",
        "plt.legend()\n",
        "plt.tight_layout()\n",
        "plt.show()\n",
        "\n",
        "# Numerical comparison\n",
        "glove_overall_avg = np.mean(avg_ranks)\n",
        "w2v_overall_avg = np.mean(w2v_avg_ranks)\n",
        "\n",
        "print(f\"Overall Average Rank for GloVe: {glove_overall_avg:.2f}\")\n",
        "print(f\"Overall Average Rank for Word2Vec: {w2v_overall_avg:.2f}\")\n",
        "\n",
        "if w2v_overall_avg < glove_overall_avg:\n",
        "    print(\"\\nOn average, Word2Vec performed better (lower rank is better).\")\n",
        "else:\n",
        "    print(\"\\nOn average, GloVe performed better (lower rank is better).\")"
      ]
    },
    {
      "cell_type": "markdown",
      "metadata": {
        "id": "Xm37VN4VpaR0"
      },
      "source": [
        "Best and Worst Decoded Concepts Comparison"
      ]
    },
    {
      "cell_type": "code",
      "execution_count": null,
      "metadata": {
        "colab": {
          "base_uri": "https://localhost:8080/"
        },
        "id": "I6bLRuNLJqSq",
        "outputId": "9dbc1605-5fca-4a2b-d02e-114ca79d0380"
      },
      "outputs": [
        {
          "output_type": "stream",
          "name": "stdout",
          "text": [
            "============================================================\n",
            "           TOP 10 BEST-DECODED CONCEPTS\n",
            "============================================================\n",
            "GloVe                     | Word2Vec                 \n",
            "------------------------- | -------------------------\n",
            "do (Rank: 1.00)           | laugh (Rank: 1.00)       \n",
            "food (Rank: 1.00)         | stupid (Rank: 1.00)      \n",
            "time (Rank: 1.00)         | emotion (Rank: 2.00)     \n",
            "great (Rank: 2.00)        | soul (Rank: 2.00)        \n",
            "laugh (Rank: 4.00)        | hair (Rank: 3.00)        \n",
            "stupid (Rank: 5.00)       | dig (Rank: 4.00)         \n",
            "lady (Rank: 6.00)         | seafood (Rank: 4.00)     \n",
            "left (Rank: 6.00)         | silly (Rank: 4.00)       \n",
            "hair (Rank: 7.00)         | food (Rank: 5.00)        \n",
            "money (Rank: 7.00)        | liar (Rank: 5.00)        \n",
            "\n",
            "\n",
            "============================================================\n",
            "           TOP 10 WORST-DECODED CONCEPTS\n",
            "============================================================\n",
            "GloVe                     | Word2Vec                 \n",
            "------------------------- | -------------------------\n",
            "argumentatively (Rank: 180.00) | argumentatively (Rank: 177.00)\n",
            "cockroach (Rank: 178.00)  | movie (Rank: 153.00)     \n",
            "applause (Rank: 175.00)   | accomplished (Rank: 151.00)\n",
            "deceive (Rank: 171.00)    | level (Rank: 150.00)     \n",
            "electron (Rank: 168.00)   | charity (Rank: 143.00)   \n",
            "dissolve (Rank: 164.00)   | flow (Rank: 141.00)      \n",
            "movie (Rank: 159.00)      | star (Rank: 141.00)      \n",
            "elegance (Rank: 158.00)   | bed (Rank: 136.00)       \n",
            "usable (Rank: 158.00)     | tried (Rank: 135.00)     \n",
            "sew (Rank: 157.00)        | solution (Rank: 134.00)  \n"
          ]
        }
      ],
      "source": [
        "# BEST/WORST CONCEPTS COMPARISON\n",
        "\n",
        "# Re-calculates GloVe average ranks from its full ranking dictionary\n",
        "glove_avg_rank_per_concept = {concept: np.mean(ranks) for concept, ranks in concept_rankings.items()}\n",
        "glove_best_decoded = sorted(glove_avg_rank_per_concept.items(), key=lambda x: x[1])[:10]\n",
        "glove_worst_decoded = sorted(glove_avg_rank_per_concept.items(), key=lambda x: x[1], reverse=True)[:10]\n",
        "\n",
        "# Calculates Word2Vec average ranks from its full ranking dictionary\n",
        "w2v_avg_rank_per_concept = {concept: np.mean(ranks) for concept, ranks in w2v_concept_rankings.items()}\n",
        "w2v_best_decoded = sorted(w2v_avg_rank_per_concept.items(), key=lambda x: x[1])[:10]\n",
        "w2v_worst_decoded = sorted(w2v_avg_rank_per_concept.items(), key=lambda x: x[1], reverse=True)[:10]\n",
        "\n",
        "# Prints the comparison side by side\n",
        "\n",
        "print(\"=\"*60)\n",
        "print(\"           TOP 10 BEST-DECODED CONCEPTS\")\n",
        "print(\"=\"*60)\n",
        "print(f\"{'GloVe':<25} | {'Word2Vec':<25}\")\n",
        "print(f\"{'-'*25} | {'-'*25}\")\n",
        "\n",
        "# Gets the original GloVe best list again\n",
        "avg_rank_per_concept_glove = {concept: np.mean(ranks) for concept, ranks in concept_rankings.items()}\n",
        "glove_best_decoded = sorted(avg_rank_per_concept_glove.items(), key=lambda x: x[1])[:10]\n",
        "\n",
        "for i in range(10):\n",
        "    g_concept, g_rank = glove_best_decoded[i]\n",
        "    w_concept, w_rank = w2v_best_decoded[i]\n",
        "    glove_str = f\"{g_concept} (Rank: {g_rank:.2f})\"\n",
        "    w2v_str = f\"{w_concept} (Rank: {w_rank:.2f})\"\n",
        "    print(f\"{glove_str:<25} | {w2v_str:<25}\")\n",
        "\n",
        "\n",
        "print(\"\\n\\n\" + \"=\"*60)\n",
        "print(\"           TOP 10 WORST-DECODED CONCEPTS\")\n",
        "print(\"=\"*60)\n",
        "print(f\"{'GloVe':<25} | {'Word2Vec':<25}\")\n",
        "print(f\"{'-'*25} | {'-'*25}\")\n",
        "\n",
        "# Gets the original GloVe worst list again\n",
        "glove_worst_decoded = sorted(avg_rank_per_concept_glove.items(), key=lambda x: x[1], reverse=True)[:10]\n",
        "\n",
        "for i in range(10):\n",
        "    g_concept, g_rank = glove_worst_decoded[i]\n",
        "    w_concept, w_rank = w2v_worst_decoded[i]\n",
        "    glove_str = f\"{g_concept} (Rank: {g_rank:.2f})\"\n",
        "    w2v_str = f\"{w_concept} (Rank: {w_rank:.2f})\"\n",
        "    print(f\"{glove_str:<25} | {w2v_str:<25}\")"
      ]
    },
    {
      "cell_type": "markdown",
      "metadata": {
        "id": "-FAc6-eSLc6S"
      },
      "source": [
        "The comparative analysis between GloVe and Word2Vec for decoding brain activation signals reveals a clear victor: Word2Vec is not only more reliable but also captures a different, and for this task, more effective, semantic space.\n",
        "\n",
        "1. Overall Performance and Consistency:\n",
        "\n",
        "The line graph illustrates a critical difference in reliability. The GloVe-based decoder shows extreme volatility, with performance varying wildly between folds. For instance, while it achieves excellent accuracy in folds 10 and 13, it suffers catastrophic failures in folds 9 and 18, where its average rank spikes dramatically. In contrast, the Word2Vec decoder is remarkably stable and robust. Its performance remains consistently well below the chance level across all folds, demonstrating that it is a far more reliable model for this task.\n",
        "\n",
        "2. A Deeper Dive: The Nature of Decoded Concepts\n",
        "\n",
        "The most compelling evidence comes from analyzing how each model handles specific types of concepts, revealing fundamental differences in their capabilities:\n",
        "\n",
        "    The \"Argumentatively\" Anomaly: A Case of Out-of-Distribution Detection. The most striking result is the complete reversal for the word \"argumentatively.\" It is the single worst-decoded concept for GloVe (average rank 180.00). Surprisingly, an investigation revealed that \"argumentatively\" is not even present in the Word2Vec model's vocabulary. Our methodology correctly substituted a zero-vector placeholder for this missing word. The Word2Vec decoder's ability to achieve a perfect rank of 1.00 under these conditions is a remarkable finding. It demonstrates that the neural pattern for \"argumentatively\" is so unique that the decoder maps it to a \"null\" point in the semantic space, which then perfectly matches the zero-vector placeholder. This highlights a critical strength of the Word2Vec-based system: its ability to effectively identify an out-of-vocabulary concept, a feat the GloVe decoder completely failed.\n",
        "\n",
        "    Handling Abstract Concepts: GloVe's strengths lie with frequent, concrete concepts like food, time, and money. It consistently struggles with abstract words such as deceive, elegance, and dissolve. Conversely, Word2Vec demonstrates a powerful ability to decode abstract concepts that are in its vocabulary, with emotion and soul appearing in its top results. This further suggests that the semantic space learned by Word2Vec is better aligned with how the brain represents abstract thought.\n",
        "\n",
        "3. Overall Conclusion\n",
        "\n",
        "Based on this evidence, the system using Word2Vec embeddings is superior for this brain decoding task. The reasons are twofold:\n",
        "\n",
        "    Higher Reliability: It provides consistent, better-than-chance performance across all data folds, avoiding the catastrophic failures that make the GloVe system untrustworthy.\n",
        "\n",
        "    More Effective Semantic Representation: The training objective of Word2Vec appears to create a semantic space that is more effective for neural decoding. This is powerfully demonstrated in two ways: its ability to successfully decode abstract concepts within its vocabulary, and, most impressively, its ability to implicitly detect an out-of-vocabulary word by mapping its unique neural signature to a null vector, a sophisticated behavior the GloVe-based system could not replicate."
      ]
    },
    {
      "cell_type": "markdown",
      "metadata": {
        "id": "KWaUKZrJLi86"
      },
      "source": [
        "Task 1, Bullet 2"
      ]
    },
    {
      "cell_type": "markdown",
      "metadata": {
        "id": "oXZZGC0B0jXS"
      },
      "source": [
        "Similarities and Differences Between Analyses 1, 2, and 3 (Pereira et al., 2018)\n",
        "\n",
        "The three analyses performed in the paper all aim to evaluate how well the decoder recovers semantic content from brain activity, but they differ in what exactly they test and how open-ended the evaluation is.\n",
        "\n",
        "Analysis 1: Pairwise Classification\n",
        "\n",
        "    Goal: Can the decoder tell which sentence caused which brain response?\n",
        "\n",
        "    Method: For every pair of brain scans and sentence vectors, check whether each decoded vector is closer (by cosine similarity) to its correct sentence than to the other.\n",
        "\n",
        "    Setup: Binary decision task — correct or incorrect.\n",
        "\n",
        "    Evaluation: Accuracy out of total number of sentence pairs.\n",
        "\n",
        "    Similarity to 2: Both compare decoded vectors to a set of true sentence vectors.\n",
        "\n",
        "    Difference from 2 and 3: Only considers 2 options at a time — much easier than ranking among hundreds or spotting a word from a 30K vocabulary.\n",
        "\n",
        "Analysis 2: Rank Accuracy (Top-N Sentence Matching)\n",
        "\n",
        "    Goal: Out of all possible sentences, how high does the correct one rank for a given brain scan?\n",
        "\n",
        "    Method: For each brain scan, the decoded vector is compared to every sentence vector (384 in Exp 2, 243 in Exp 3), and the true sentence's rank is recorded.\n",
        "\n",
        "    Evaluation: Rank accuracy score (1 = ranked first, 0.5 = chance).\n",
        "\n",
        "    Similarity to 1: Still uses known sentence-text vectors for comparison.\n",
        "\n",
        "    Difference from 1: This is much harder, because it requires choosing the correct sentence from hundreds, not just two.\n",
        "\n",
        "Analysis 3: Word Spotting from a 30K Vocabulary\n",
        "\n",
        "    Goal: Can the decoder recover actual content words from the brain scan, without a fixed set to choose from?\n",
        "\n",
        "    Method: Each decoded vector is compared to 30,000 word vectors. If any of the words from the original sentence appear near the top, it’s a success.\n",
        "\n",
        "    Evaluation: For each sentence, compute the best rank among all its actual content words.\n",
        "\n",
        "    Similarity to 2: Still based on ranking by cosine similarity.\n",
        "\n",
        "    Differences:\n",
        "\n",
        "        Open-ended: There’s no finite list of candidates — the decoder must generalize to a huge vocabulary.\n",
        "\n",
        "        Doesn’t require matching full sentence vectors, just finding relevant individual words.\n",
        "\n",
        "        Provides a softer signal of decoding quality — not binary correctness, but whether meaningful words are captured."
      ]
    },
    {
      "cell_type": "markdown",
      "metadata": {
        "id": "ZonQzAbM0jS0"
      },
      "source": [
        "bullet 3"
      ]
    },
    {
      "cell_type": "code",
      "execution_count": null,
      "metadata": {
        "colab": {
          "base_uri": "https://localhost:8080/",
          "height": 539
        },
        "id": "8EVRzznlXjs9",
        "outputId": "4af72975-82be-44ef-baab-280ef78c67d2"
      },
      "outputs": [
        {
          "output_type": "stream",
          "name": "stdout",
          "text": [
            "\n",
            "Average Rank (Experiment 2 — 384 sentences): 156.93\n",
            "Average Rank (Experiment 3 — 243 sentences): 100.74\n"
          ]
        },
        {
          "output_type": "display_data",
          "data": {
            "text/plain": [
              "<Figure size 1200x500 with 1 Axes>"
            ],
            "image/png": "[encoded data removed]"
          },
          "metadata": {}
        }
      ],
      "source": [
        "# 1. Train the Decoder and Evaluate Sentence-Level Performance\n",
        "\n",
        "# The decoder is trained on the 180-concept fMRI data (X_train_decoder)\n",
        "# and their corresponding GloVe vectors ('vectors' variable from HW3 part).\n",
        "\n",
        "M = learn_decoder(X_train_decoder, vectors)\n",
        "\n",
        "# Defining a clean rank accuracy function\n",
        "def compute_sentence_rank_accuracy(fmri_test_data, semantic_vectors_true, decoder_matrix):\n",
        "    \"\"\"Decodes fMRI data and computes rank accuracy.\"\"\"\n",
        "    semantic_vectors_pred = fmri_test_data @ decoder_matrix\n",
        "    ranks = []\n",
        "    for i in range(len(semantic_vectors_pred)):\n",
        "        # Calculate cosine similarity of the predicted vector against all true vectors\n",
        "        sims = np.dot(semantic_vectors_true, semantic_vectors_pred[i]) / (\n",
        "            np.linalg.norm(semantic_vectors_true, axis=1) * np.linalg.norm(semantic_vectors_pred[i])\n",
        "        )\n",
        "        sorted_indices = np.argsort(sims)[::-1]\n",
        "        # Find the rank of the true sentence vector\n",
        "        rank = np.where(sorted_indices == i)[0][0] + 1\n",
        "        ranks.append(rank)\n",
        "    return ranks\n",
        "\n",
        "# Evaluating on Experiment 2 and 3 test sets\n",
        "\n",
        "ranks_2 = compute_sentence_rank_accuracy(X_exp2, Z_glove_exp2, M)\n",
        "ranks_3 = compute_sentence_rank_accuracy(X_exp3, Z_glove_exp3, M)\n",
        "\n",
        "print(f\"\\nAverage Rank (Experiment 2 — 384 sentences): {np.mean(ranks_2):.2f}\")\n",
        "print(f\"Average Rank (Experiment 3 — 243 sentences): {np.mean(ranks_3):.2f}\")\n",
        "\n",
        "# Plotting the rank distributions\n",
        "plt.figure(figsize=(12, 5))\n",
        "plt.hist(ranks_2, bins=30, alpha=0.7, label=f'EXP2 (Avg Rank: {np.mean(ranks_2):.2f})')\n",
        "plt.hist(ranks_3, bins=30, alpha=0.7, label=f'EXP3 (Avg Rank: {np.mean(ranks_3):.2f})')\n",
        "plt.axvline(384/2, color='blue', linestyle='--', label='Chance (EXP2)')\n",
        "plt.axvline(243/2, color='orange', linestyle='--', label='Chance (EXP3)')\n",
        "plt.xlabel(\"Rank of Correct Sentence\")\n",
        "plt.ylabel(\"Number of Sentences\")\n",
        "plt.title(\"Distribution of Rank Accuracy for Sentence Decoding\")\n",
        "plt.legend()\n",
        "plt.grid(axis='y', alpha=0.5)\n",
        "plt.show()"
      ]
    },
    {
      "cell_type": "code",
      "execution_count": null,
      "metadata": {
        "colab": {
          "base_uri": "https://localhost:8080/"
        },
        "id": "uT0HsJH7XqvQ",
        "outputId": "df908b78-4009-4bb5-9868-4eff3b92b830"
      },
      "outputs": [
        {
          "output_type": "stream",
          "name": "stdout",
          "text": [
            "--- Experiment 2: Average Rank per Topic (Best to Worst) ---\n",
            "body_part                      | Avg Rank: 70.44\n",
            "human                          | Avg Rank: 92.75\n",
            "drink_non_alcoholic            | Avg Rank: 98.94\n",
            "dwelling                       | Avg Rank: 113.69\n",
            "appliance                      | Avg Rank: 113.75\n",
            "furniture                      | Avg Rank: 131.88\n",
            "kitchen_utensil                | Avg Rank: 141.25\n",
            "disaster                       | Avg Rank: 149.31\n",
            "fish                           | Avg Rank: 152.38\n",
            "tool                           | Avg Rank: 153.06\n",
            "bird                           | Avg Rank: 156.31\n",
            "place                          | Avg Rank: 157.50\n",
            "building_part                  | Avg Rank: 158.62\n",
            "clothing                       | Avg Rank: 160.31\n",
            "weapon                         | Avg Rank: 163.81\n",
            "crime                          | Avg Rank: 164.88\n",
            "fruit                          | Avg Rank: 176.31\n",
            "landscape                      | Avg Rank: 176.50\n",
            "insect                         | Avg Rank: 179.88\n",
            "music                          | Avg Rank: 185.00\n",
            "vehicles_transport             | Avg Rank: 186.69\n",
            "animal                         | Avg Rank: 196.25\n",
            "vegetable                      | Avg Rank: 237.62\n",
            "profession                     | Avg Rank: 249.12\n"
          ]
        },
        {
          "output_type": "stream",
          "name": "stderr",
          "text": [
            "/tmp/ipython-input-2799157059.py:14: DeprecationWarning: Conversion of an array with ndim > 0 to a scalar is deprecated, and will error in future. Ensure you extract a single element from your array before performing this operation. (Deprecated NumPy 1.25.)\n",
            "  topic_id = int(passage_to_topic_2[passage_id])\n"
          ]
        }
      ],
      "source": [
        "# 2. Topic-wise Analysis for Experiment 2\n",
        "\n",
        "# Gets the list of topic names\n",
        "topic_names_2 = [item[0] for item in exp2_data[\"keyPassageCategory\"].flatten()]\n",
        "\n",
        "# Gets the mappings\n",
        "sent_to_passage_2 = exp2_data[\"labelsPassageForEachSentence\"]\n",
        "passage_to_topic_2 = exp2_data[\"labelsPassageCategory\"]\n",
        "\n",
        "# Group the ranks by topic\n",
        "topic_ranks_2 = defaultdict(list)\n",
        "for i, rank in enumerate(ranks_2):\n",
        "    passage_id = sent_to_passage_2[i] - 1\n",
        "    topic_id = int(passage_to_topic_2[passage_id])\n",
        "    topic_name = topic_names_2[topic_id - 1]\n",
        "    topic_ranks_2[topic_name].append(rank)\n",
        "\n",
        "# Calculates and sorts the average rank for each topic\n",
        "avg_rank_per_topic_2 = {topic: np.mean(ranks) for topic, ranks in topic_ranks_2.items()}\n",
        "sorted_topics_2 = sorted(avg_rank_per_topic_2.items(), key=lambda x: x[1])\n",
        "\n",
        "# Prints the results\n",
        "print(\"Experiment 2: Average Rank per Topic (Best to Worst)\")\n",
        "for topic, avg_rank in sorted_topics_2:\n",
        "    print(f\"{topic:30s} | Avg Rank: {avg_rank:.2f}\")"
      ]
    },
    {
      "cell_type": "code",
      "execution_count": null,
      "metadata": {
        "colab": {
          "base_uri": "https://localhost:8080/"
        },
        "id": "1c7ot2-dXtLw",
        "outputId": "642ffe1c-6627-4378-f4f4-747633b98958"
      },
      "outputs": [
        {
          "output_type": "stream",
          "name": "stdout",
          "text": [
            "\n",
            "--- Experiment 3: Average Rank per Topic (Best to Worst) ---\n",
            "dreams                         | Avg Rank: 52.80\n",
            "stress                         | Avg Rank: 58.20\n",
            "castle                         | Avg Rank: 59.10\n",
            "opera                          | Avg Rank: 63.64\n",
            "bone_fracture                  | Avg Rank: 68.09\n",
            "law_school                     | Avg Rank: 68.20\n",
            "gambling                       | Avg Rank: 71.60\n",
            "taste                          | Avg Rank: 78.67\n",
            "painter                        | Avg Rank: 80.90\n",
            "polar_bear                     | Avg Rank: 81.70\n",
            "computer_graphics              | Avg Rank: 89.50\n",
            "hurricane                      | Avg Rank: 99.80\n",
            "tuxedo                         | Avg Rank: 101.40\n",
            "blindness                      | Avg Rank: 104.90\n",
            "rock_climbing                  | Avg Rank: 108.18\n",
            "astronaut                      | Avg Rank: 110.70\n",
            "infection                      | Avg Rank: 118.20\n",
            "ice_cream                      | Avg Rank: 119.60\n",
            "skiing                         | Avg Rank: 129.50\n",
            "pharmacist                     | Avg Rank: 136.60\n",
            "pyramid                        | Avg Rank: 147.20\n",
            "lawn_mower                     | Avg Rank: 148.10\n",
            "owl                            | Avg Rank: 148.60\n",
            "beekeeping                     | Avg Rank: 169.82\n"
          ]
        },
        {
          "output_type": "stream",
          "name": "stderr",
          "text": [
            "/tmp/ipython-input-1007130304.py:14: DeprecationWarning: Conversion of an array with ndim > 0 to a scalar is deprecated, and will error in future. Ensure you extract a single element from your array before performing this operation. (Deprecated NumPy 1.25.)\n",
            "  topic_id = int(passage_to_topic_3[passage_id])\n"
          ]
        }
      ],
      "source": [
        "# 3. Topic-wise Analysis for Experiment 3\n",
        "\n",
        "# Gets the list of topic names\n",
        "topic_names_3 = [item[0] for item in exp3_data[\"keyPassageCategory\"].flatten()]\n",
        "\n",
        "# Gets the mappings\n",
        "sent_to_passage_3 = exp3_data[\"labelsPassageForEachSentence\"]\n",
        "passage_to_topic_3 = exp3_data[\"labelsPassageCategory\"]\n",
        "\n",
        "# Groups the ranks by topic\n",
        "topic_ranks_3 = defaultdict(list)\n",
        "for i, rank in enumerate(ranks_3):\n",
        "    passage_id = sent_to_passage_3[i] - 1\n",
        "    topic_id = int(passage_to_topic_3[passage_id])\n",
        "    topic_name = topic_names_3[topic_id - 1]\n",
        "    topic_ranks_3[topic_name].append(rank)\n",
        "\n",
        "# Calculates and sorts the average rank for each topic\n",
        "avg_rank_per_topic_3 = {topic: np.mean(ranks) for topic, ranks in topic_ranks_3.items()}\n",
        "sorted_topics_3 = sorted(avg_rank_per_topic_3.items(), key=lambda x: x[1])\n",
        "\n",
        "# Prints the results\n",
        "print(\"\\nExperiment 3: Average Rank per Topic (Best to Worst)\")\n",
        "for topic, avg_rank in sorted_topics_3:\n",
        "    print(f\"{topic:30s} | Avg Rank: {avg_rank:.2f}\")"
      ]
    },
    {
      "cell_type": "markdown",
      "metadata": {
        "id": "vtAtyCkUkDUr"
      },
      "source": [
        "The GloVe-based decoder, trained on single-word concepts, successfully generalized to decoding full sentences, achieving average ranks significantly better than chance in both Experiment 2 (156.93) and Experiment 3 (100.74). The superior performance in Experiment 3 suggests that the decoder is more effective when sentences are drawn from cohesive, narrative passages rather than disparate examples. The consistent semantic context within these passages may elicit more stable and distinct neural patterns, making them easier to decode than the more varied and disconnected sentences of Experiment 2."
      ]
    },
    {
      "cell_type": "markdown",
      "metadata": {
        "id": "ScBi0vzCkERQ"
      },
      "source": [
        "# bullet 4"
      ]
    },
    {
      "cell_type": "markdown",
      "metadata": {
        "id": "-BsMhkjJkGr9"
      },
      "source": [
        "To understand the decoder's strengths and weaknesses, we analyzed its performance across the different semantic topics present in each experiment. This revealed a clear pattern: the decoder is significantly more successful with concrete, well-defined topics than with broad, abstract, or internally diverse categories.\n",
        "\n",
        "Experiment 2 Topic Analysis:\n",
        "\n",
        "In Experiment 2, which used a wide range of general topics, the decoder performed best on concepts that are tangible and fundamental to human experience.\n",
        "\n",
        "    Most Successful Topics: The top-performing categories were body_part (Avg Rank: 70.44), human (Avg Rank: 92.75), and drink_non_alcoholic (Avg Rank: 98.94). These topics are concrete, have low semantic ambiguity, and likely elicit consistent and distinct neural activation patterns across different sentences.\n",
        "\n",
        "    Least Successful Topics: Conversely, the decoder failed dramatically on broad, high-level categories. The worst performance was on profession (Avg Rank: 249.12) and vegetable (Avg Rank: 237.62). A category like \"profession\" is highly variable (e.g., the neural and semantic representations of \"doctor\" and \"artist\" are very different), making its averaged semantic vector a poor and non-distinct target for the decoder.\n",
        "\n",
        "Experiment 3 Topic Analysis:\n",
        "\n",
        "In Experiment 3, where sentences were drawn from specific narrative passages, the decoder excelled at identifying topics that were highly specific and evocative.\n",
        "\n",
        "    Most Successful Topics: The best-decoded topics were those with strong narrative or emotional content, such as dreams (Avg Rank: 52.80), stress (Avg Rank: 58.20), and castle (Avg Rank: 59.10). It appears that the focused context of a story helps elicit a unique neural signature for its central topic, which the decoder can easily identify.\n",
        "\n",
        "    Least Successful Topics: The decoder struggled with topics that, while concrete, may have been less central to their respective narratives or had more varied sentence structures, such as beekeeping (Avg Rank: 169.82) and lawn_mower (Avg Rank: 148.10).\n",
        "\n",
        "Conclusion for this Section:\n",
        "\n",
        "The topic-wise analysis demonstrates that the decoder's success is not uniform. It excels when the target category is semantically and neurologically distinct. This occurs with concrete, fundamental concepts (like body_part) or with specific, evocative narrative themes (like dreams). It fails when the target category is too broad and abstract (like profession), as the high variance within the category leads to a \"muddy\" and indistinct semantic and neural representation."
      ]
    },
    {
      "cell_type": "markdown",
      "metadata": {
        "id": "0sO9fPG9h04W"
      },
      "source": [
        "*Task 2*"
      ]
    },
    {
      "cell_type": "code",
      "execution_count": null,
      "metadata": {
        "colab": {
          "base_uri": "https://localhost:8080/",
          "height": 405,
          "referenced_widgets": [
            "77091da2ea6c40558a0aafc3fdab9d86",
            "6add2c1a912f40f4ad64d0bad0168b59",
            "bd456cde87494c4d9e20abee5247a130",
            "be8ebadb18dc40b99e345fbb1415842f",
            "599af20d10994884ae9c260f64dd3c7a",
            "2e6b6a8c5f8a4bd49b9485b029d778e2",
            "7fc010a4e38a42ad8877d7efe5272289",
            "1e3c929e61fc4baeba6581ec7fb0cdc4",
            "f6b5216d45e546729f88a19f340bc685",
            "7b8d1fa1124a4caa9b8d7951c8b89539",
            "d20ce421c325491b8396c31cd3711b46",
            "a6eeb3a274a844ad90aee41a4492d8ac",
            "1e276f4ed315419aa464c726a13dc67e",
            "843a7193c08743b1a68fc996e737964d",
            "89d39497a7b8489089972d8da89ace75",
            "2669eaed67104af3b3ad445542a4240f",
            "42f0cd27fb754e3cb013bc62562b75a0",
            "f716957483354450a54a9a6ac8bb992c",
            "1f156f8c4020400a889082ce6fc863ff",
            "baf5a0537b4c44b79a9fed08dd0841de",
            "bf0b1f64386e4b4484fcd3968efd3950",
            "46ab9ded403d41bf903c6beb76f9736c",
            "c91a12d95660464b82e97e3e63a5c332",
            "8f67c8e12cfe4db59818babb261c2b36",
            "fe899e64ef7c43009383eda2e1912e18",
            "629d05e7892c485593a6c89f63c9532a",
            "a573f30625174a0d829232aa36cc69ab",
            "ece491af8d684648a332d4ff96ff7642",
            "1e55b63df44045ec8e732c2bc45a30d6",
            "406f26117cc44bb49c8a066edaf0172d",
            "244ec51fe98a419d925a1c02e3c765be",
            "91351fe9cd6448878924d8e15b23feff",
            "da396850acb64e38bda33dbc95b6a975",
            "4d493e3ed0c048899071f28b59d7afb2",
            "b4f192ee8e884c5aace278246a50a448",
            "014cf345b4aa4a978bb523c4103434f3",
            "cac266694a3b44d08463927ccc4b2910",
            "ed1de6c8e80142beac0fbd4842001fef",
            "3e052cb88e1b4a489b6cdbc1fa19647e",
            "a9e161133f174e6290d4e358708374dc",
            "1b2b574fa39e485f91c503bb71da1f52",
            "973048f2c5d9441fbc9b427dcdb3c0d5",
            "7dd03d48aa584187bef21dde9f99ea54",
            "2c141be38a2a4a0887448b4f9b8286d7",
            "758db3a4293a4a078c0dcf4a5ae9ddfc",
            "c755b3c1890342af93b5b8020ba50a22",
            "c1cadd4f28004008ad19f28da15dd94f",
            "e7fbf3ae02dc4b28bedb2bf5358d2fd3",
            "48fb42fb249a4c179fc4cbcbea61c7b4",
            "cdbece72d8a84c87baf83acede4db2e7",
            "100ded446b7a4d5aba9dce02a0c292b2",
            "1486ae16cc5c4594806dbc78ab511c86",
            "45f468a3d2f745f795bfb8547a823fec",
            "e3f31fa3e2cb4dcaa6b99fcb790f7db0",
            "6e4e4178c4eb4257a18686343371b3fb"
          ]
        },
        "id": "8gULnqaGlnJX",
        "outputId": "3579064c-3a1f-4911-a552-2207b984ea8a"
      },
      "outputs": [
        {
          "output_type": "stream",
          "name": "stderr",
          "text": [
            "/usr/local/lib/python3.11/dist-packages/huggingface_hub/file_download.py:945: FutureWarning: `resume_download` is deprecated and will be removed in version 1.0.0. Downloads always resume when possible. If you want to force a new download, use `force_download=True`.\n",
            "  warnings.warn(\n",
            "/usr/local/lib/python3.11/dist-packages/huggingface_hub/utils/_auth.py:94: UserWarning: \n",
            "The secret `HF_TOKEN` does not exist in your Colab secrets.\n",
            "To authenticate with the Hugging Face Hub, create a token in your settings tab (https://huggingface.co/settings/tokens), set it as secret in your Google Colab and restart your session.\n",
            "You will be able to reuse this secret in all of your notebooks.\n",
            "Please note that authentication is recommended but still optional to access public models or datasets.\n",
            "  warnings.warn(\n"
          ]
        },
        {
          "output_type": "display_data",
          "data": {
            "text/plain": [
              "tokenizer_config.json:   0%|          | 0.00/48.0 [00:00<?, ?B/s]"
            ],
            "application/vnd.jupyter.widget-view+json": {
              "version_major": 2,
              "version_minor": 0,
              "model_id": "77091da2ea6c40558a0aafc3fdab9d86"
            }
          },
          "metadata": {}
        },
        {
          "output_type": "display_data",
          "data": {
            "text/plain": [
              "vocab.txt:   0%|          | 0.00/232k [00:00<?, ?B/s]"
            ],
            "application/vnd.jupyter.widget-view+json": {
              "version_major": 2,
              "version_minor": 0,
              "model_id": "a6eeb3a274a844ad90aee41a4492d8ac"
            }
          },
          "metadata": {}
        },
        {
          "output_type": "display_data",
          "data": {
            "text/plain": [
              "tokenizer.json:   0%|          | 0.00/466k [00:00<?, ?B/s]"
            ],
            "application/vnd.jupyter.widget-view+json": {
              "version_major": 2,
              "version_minor": 0,
              "model_id": "c91a12d95660464b82e97e3e63a5c332"
            }
          },
          "metadata": {}
        },
        {
          "output_type": "display_data",
          "data": {
            "text/plain": [
              "config.json:   0%|          | 0.00/570 [00:00<?, ?B/s]"
            ],
            "application/vnd.jupyter.widget-view+json": {
              "version_major": 2,
              "version_minor": 0,
              "model_id": "4d493e3ed0c048899071f28b59d7afb2"
            }
          },
          "metadata": {}
        },
        {
          "output_type": "display_data",
          "data": {
            "text/plain": [
              "model.safetensors:   0%|          | 0.00/440M [00:00<?, ?B/s]"
            ],
            "application/vnd.jupyter.widget-view+json": {
              "version_major": 2,
              "version_minor": 0,
              "model_id": "758db3a4293a4a078c0dcf4a5ae9ddfc"
            }
          },
          "metadata": {}
        },
        {
          "output_type": "stream",
          "name": "stdout",
          "text": [
            "\n",
            "--- BERT Vector Shape ---\n",
            "Contextual BERT Vectors (Z_bert_exp3): (243, 768)\n",
            "BERT embedding generation complete.\n"
          ]
        }
      ],
      "source": [
        "# Create Contextualized BERT Embeddings\n",
        "\n",
        "from transformers import BertTokenizer, BertModel\n",
        "import torch\n",
        "\n",
        "#Loading pre-trained BERT model and tokenizer...\n",
        "tokenizer = BertTokenizer.from_pretrained(\"bert-base-uncased\")\n",
        "model = BertModel.from_pretrained(\"bert-base-uncased\")\n",
        "model.eval() # Sets model to evaluation mode\n",
        "\n",
        "# Func to get sentence embedding\n",
        "# Using the embedding of the special [CLS] token,\n",
        "# which BERT is trained to use for sentence-level tasks.\n",
        "def get_bert_embedding(sentence):\n",
        "    with torch.no_grad(): # Speeds up inference\n",
        "        inputs = tokenizer(sentence, return_tensors=\"pt\", padding=True, truncation=True, max_length=128)\n",
        "        outputs = model(**inputs)\n",
        "        # Gets the [CLS] token's embedding (it's always the first one)\n",
        "        cls_embedding = outputs.last_hidden_state[:, 0, :].squeeze()\n",
        "        return cls_embedding.numpy()\n",
        "\n",
        "# Process all sentences\n",
        "#Generating BERT embeddings for all 243 sentences...\n",
        "Z_bert_exp3 = np.array([get_bert_embedding(sent) for sent in sentences_exp3])\n",
        "\n",
        "print(\"\\nBERT Vector Shape\")\n",
        "print(f\"Contextual BERT Vectors (Z_bert_exp3): {Z_bert_exp3.shape}\") # Shape: (243, 768)\n",
        "print(\"BERT embedding generation complete.\")"
      ]
    },
    {
      "cell_type": "markdown",
      "metadata": {
        "id": "Ymxulzq4j6d5"
      },
      "source": [
        "----------------------------------------"
      ]
    },
    {
      "cell_type": "code",
      "source": [
        "# TASK 2 - TRAIN & EVALUATE SENTENCE DECODERS\n",
        "\n",
        "# Re-usable evaluation function for sentences (Leave-One-Out)\n",
        "def evaluate_sentence_decoder(X_fmri, Z_vectors):\n",
        "    n_sentences = X_fmri.shape[0]\n",
        "    all_ranks = []\n",
        "    #Running leave-one-out cross-validation for {n_sentences} sentences\n",
        "    for i in range(n_sentences):\n",
        "        if (i + 1) % 50 == 0:\n",
        "            print(f\"  Processing sentence {i+1}/{n_sentences}...\")\n",
        "\n",
        "        test_idx = [i]\n",
        "        train_idx = np.setdiff1d(np.arange(n_sentences), test_idx)\n",
        "\n",
        "        train_data, test_data = X_fmri[train_idx], X_fmri[test_idx]\n",
        "        train_vectors, _ = Z_vectors[train_idx], Z_vectors[test_idx]\n",
        "\n",
        "        M = learn_decoder(train_data, train_vectors)\n",
        "        decoded_vector = (test_data @ M).flatten()\n",
        "\n",
        "        # Calculates cosine similarity of the predicted vector against all true sentence vectors\n",
        "        sims = np.dot(Z_vectors, decoded_vector) / (np.linalg.norm(Z_vectors, axis=1) * np.linalg.norm(decoded_vector))\n",
        "        sims = np.nan_to_num(sims)\n",
        "\n",
        "        sorted_indices = np.argsort(sims)[::-1]\n",
        "        rank = np.where(sorted_indices == i)[0][0] + 1\n",
        "        all_ranks.append(rank)\n",
        "\n",
        "    print(\"evaluation finished.\")\n",
        "    return all_ranks\n",
        "\n",
        "# Run evaluations for both models\n",
        "#Evaluating STATIC (GloVe) Sentence Decoder\n",
        "glove_sentence_ranks = evaluate_sentence_decoder(X_exp3, Z_glove_exp3)\n",
        "glove_sentence_avg_rank = np.mean(glove_sentence_ranks)\n",
        "print(f\"GloVe Decoder - Overall Average Rank: {glove_sentence_avg_rank:.2f}\")\n",
        "\n",
        "#Evaluating CONTEXTUAL (BERT) Sentence Decoder\n",
        "bert_sentence_ranks = evaluate_sentence_decoder(X_exp3, Z_bert_exp3)\n",
        "bert_sentence_avg_rank = np.mean(bert_sentence_ranks)\n",
        "print(f\"BERT Decoder - Overall Average Rank: {bert_sentence_avg_rank:.2f}\")\n",
        "print(\"Task 2 evaluation complete.\")"
      ],
      "metadata": {
        "id": "OfQgn2y0XNTR",
        "colab": {
          "base_uri": "https://localhost:8080/"
        },
        "outputId": "3b9beb50-341c-46c7-c682-66bd78111b7a"
      },
      "execution_count": null,
      "outputs": [
        {
          "output_type": "stream",
          "name": "stdout",
          "text": [
            "  Processing sentence 50/243...\n",
            "  Processing sentence 100/243...\n",
            "  Processing sentence 150/243...\n",
            "  Processing sentence 200/243...\n",
            "evaluation finished.\n",
            "GloVe Decoder - Overall Average Rank: 64.13\n",
            "  Processing sentence 50/243...\n",
            "  Processing sentence 100/243...\n",
            "  Processing sentence 150/243...\n",
            "  Processing sentence 200/243...\n",
            "evaluation finished.\n",
            "BERT Decoder - Overall Average Rank: 60.10\n",
            "Task 2 evaluation complete.\n"
          ]
        }
      ]
    },
    {
      "cell_type": "code",
      "source": [
        "# TASK 2 - PLOT RESULTS AND CONCLUDE\n",
        "\n",
        "chance_level = len(sentences_exp3) / 2\n",
        "models = ['Static (GloVe)', 'Contextual (BERT)']\n",
        "avg_ranks = [glove_sentence_avg_rank, bert_sentence_avg_rank]\n",
        "\n",
        "plt.figure(figsize=(8, 6))\n",
        "bars = plt.bar(models, avg_ranks, color=['#4c72b0', '#55a868'])\n",
        "plt.axhline(y=chance_level, color='red', linestyle='--', label=f'Chance Level (Rank {chance_level:.1f})')\n",
        "\n",
        "plt.ylabel('Average Rank (Lower is Better)', fontsize=12)\n",
        "plt.title('Decoder Performance: Static vs. Contextual Embeddings', fontsize=14, pad=20)\n",
        "plt.legend()\n",
        "plt.ylim(0, max(avg_ranks) * 1.1) # Sets y-axis limit\n",
        "\n",
        "for bar in bars:\n",
        "    yval = bar.get_height()\n",
        "    plt.text(bar.get_x() + bar.get_width()/2.0, yval, f'{yval:.2f}', va='bottom', ha='center', fontsize=11, fontweight='bold')\n",
        "\n",
        "plt.show()\n",
        "\n",
        "# A report summary\n",
        "print(\"\\nFinal Comparison Summary\")\n",
        "print(f\"Static (GloVe) Decoder Average Rank: {glove_sentence_avg_rank:.2f}\")\n",
        "print(f\"Contextual (BERT) Decoder Average Rank: {bert_sentence_avg_rank:.2f}\")\n",
        "\n",
        "if bert_sentence_avg_rank < glove_sentence_avg_rank:\n",
        "    print(\"\\nConclusion: The contextual BERT-based decoder performed significantly better than the static GloVe-based decoder.\")\n",
        "else:\n",
        "    print(\"\\nConclusion: The static GloVe-based decoder performed better than or equal to the contextual BERT-based decoder.\")"
      ],
      "metadata": {
        "id": "dzUIuRHvXSYd",
        "colab": {
          "base_uri": "https://localhost:8080/",
          "height": 669
        },
        "outputId": "6f75721a-b0cc-48df-da32-06e3ff2cbcc8"
      },
      "execution_count": null,
      "outputs": [
        {
          "output_type": "display_data",
          "data": {
            "text/plain": [
              "<Figure size 800x600 with 1 Axes>"
            ],
            "image/png": "[encoded data removed]"
          },
          "metadata": {}
        },
        {
          "output_type": "stream",
          "name": "stdout",
          "text": [
            "\n",
            "--- Final Comparison Summary ---\n",
            "Static (GloVe) Decoder Average Rank: 64.13\n",
            "Contextual (BERT) Decoder Average Rank: 60.10\n",
            "\n",
            "Conclusion: The contextual BERT-based decoder performed significantly better than the static GloVe-based decoder.\n"
          ]
        }
      ]
    },
    {
      "cell_type": "markdown",
      "metadata": {
        "id": "bar4tKEDcLp5"
      },
      "source": [
        "Both models performed substantially better than the chance level of 121.5, confirming that sentence meaning can be successfully decoded from brain activity. However, the BERT-based model shows a clear advantage."
      ]
    },
    {
      "cell_type": "markdown",
      "metadata": {
        "id": "SrGW2opAcRvn"
      },
      "source": [
        "The superior performance of the contextual BERT-based decoder highlights the critical importance of high-fidelity semantic representations in neuro-linguistic modeling.\n",
        "\n",
        "\n",
        "The Power of Context: The primary advantage of BERT lies in its ability to understand context. Static embeddings, like GloVe, assign a single, fixed vector to a word regardless of its meaning in a sentence. For example, the word \"bank\" has the same vector in \"river bank\" and \"investment bank.\" Averaging these static vectors can lead to a noisy or ambiguous representation of the sentence's overall meaning. BERT, being a transformer-based model, dynamically creates word vectors based on the surrounding words. This allows it to resolve ambiguity and capture the precise, intended meaning of the sentence, providing a much cleaner and more accurate \"target\" for the decoder to map the brain activity onto.\n",
        "\n",
        "Richer Semantic Space: The BERT model used (bert-base-uncased) produces 768-dimensional vectors, compared to GloVe's 300 dimensions. This higher dimensionality allows for a more expressive and nuanced representation of semantic information, potentially capturing more of the subtle details present in the fMRI data.\n",
        "\n",
        "Implications for Neuroscience: This result supports the hypothesis that the brain's representation of language is itself highly contextual. The fact that a context-aware model like BERT provides a better \"key\" to unlock the meaning within fMRI patterns suggests that the brain is not simply activating a set of word meanings in isolation, but is rather processing a unified, context-dependent representation of the full sentence.\n",
        "\n",
        "Conclusion\n",
        "The experiment definitively shows that contextualized sentence embeddings from BERT are superior to static, averaged GloVe embeddings for the task of decoding sentence meaning from fMRI data. The improvement in average rank from 64.13 to 60.10, while numerically small, is significant in this high-dimensional problem space. It demonstrates that as our computational models of language become more sophisticated and context-aware, so too does our ability to map them to the complex neural processes underlying human language comprehension. This underscores the value of using state-of-the-art NLP models as tools to advance our understanding of the brain."
      ]
    },
    {
      "cell_type": "markdown",
      "metadata": {
        "id": "Hy8VAQvJc0fH"
      },
      "source": [
        "Task 3"
      ]
    },
    {
      "cell_type": "code",
      "source": [
        "from sklearn.model_selection import KFold\n",
        "from sklearn.linear_model import LinearRegression\n",
        "from sklearn.metrics import r2_score\n",
        "import numpy as np\n",
        "\n",
        "def run_neural_encoding_fast(X_fmri, Z_vectors):\n",
        "    \"\"\"\n",
        "    Performs a neural encoding analysis using efficient vectorization.\n",
        "    It's MUCH faster than looping through voxels.\n",
        "\n",
        "    Args:\n",
        "        X_fmri (np.array): The fMRI data, shape (n_sentences, n_voxels).\n",
        "        Z_vectors (np.array): The sentence vectors, shape (n_sentences, n_dims).\n",
        "\n",
        "    Returns:\n",
        "        np.array: An array of R-squared scores, one for each voxel.\n",
        "    \"\"\"\n",
        "    n_sentences, n_voxels = X_fmri.shape\n",
        "\n",
        "    # Storing the true and predicted values for each voxel across all folds\n",
        "    # Memory intensive but required for a single R2 calculation at the end\n",
        "    y_true_all_folds = np.zeros_like(X_fmri)\n",
        "    y_pred_all_folds = np.zeros_like(X_fmri)\n",
        "\n",
        "    kf = KFold(n_splits=10, shuffle=True, random_state=42)\n",
        "\n",
        "    # FAST encoding analysis for {n_voxels} voxels\n",
        "\n",
        "    # K-Fold Cross-Validation\n",
        "    # We process all voxels at once inside the CV loop.\n",
        "    for i, (train_index, test_index) in enumerate(kf.split(Z_vectors)):\n",
        "        print(f\"  Processing Fold {i+1}/10\")\n",
        "\n",
        "        # Split the sentence vectors (our features, X)\n",
        "        X_train, X_test = Z_vectors[train_index], Z_vectors[test_index]\n",
        "\n",
        "        # Split the fMRI data (our multiple targets, y)\n",
        "        # y_train and y_test are Matrices, rather than vectors\n",
        "        y_train, y_test = X_fmri[train_index], X_fmri[test_index]\n",
        "\n",
        "        # Train one multi-target linear regression model\n",
        "        model = LinearRegression()\n",
        "        model.fit(X_train, y_train)\n",
        "\n",
        "        # Making predictions for all voxels on the test set\n",
        "        y_pred = model.predict(X_test)\n",
        "\n",
        "        # Storing the results in the pre-allocated arrays\n",
        "        y_true_all_folds[test_index, :] = y_test\n",
        "        y_pred_all_folds[test_index, :] = y_pred\n",
        "\n",
        "    # Calculating final R-squared scores for all voxels\n",
        "\n",
        "    # Calculating R2 score for each voxel (column) across all concatenated folds\n",
        "    # 'multioutput='raw_values'' is the key here. It returns one R2 score per target.\n",
        "    r2_scores_for_voxels = r2_score(y_true_all_folds, y_pred_all_folds, multioutput='raw_values')\n",
        "\n",
        "    print(\"Encoding analysis complete\")\n",
        "    return r2_scores_for_voxels\n",
        "\n",
        "# Running Neural Encoding with Static (GloVe) Vectors\n",
        "r2_scores_glove = run_neural_encoding_fast(X_exp3, Z_glove_exp3)\n",
        "\n",
        "# Running Neural Encoding with Contextual (BERT) Vectors\n",
        "r2_scores_bert = run_neural_encoding_fast(X_exp3, Z_bert_exp3)\n",
        "\n",
        "print(\"\\n All encoding models have been trained and evaluated.\")"
      ],
      "metadata": {
        "colab": {
          "base_uri": "https://localhost:8080/"
        },
        "id": "RB8Fih7KrOGu",
        "outputId": "6c0b5c27-2a5e-4625-dbe3-355896f71910"
      },
      "execution_count": null,
      "outputs": [
        {
          "output_type": "stream",
          "name": "stdout",
          "text": [
            "  Processing Fold 1/10...\n",
            "  Processing Fold 2/10...\n",
            "  Processing Fold 3/10...\n",
            "  Processing Fold 4/10...\n",
            "  Processing Fold 5/10...\n",
            "  Processing Fold 6/10...\n",
            "  Processing Fold 7/10...\n",
            "  Processing Fold 8/10...\n",
            "  Processing Fold 9/10...\n",
            "  Processing Fold 10/10...\n",
            "Encoding analysis complete.\n",
            "  Processing Fold 1/10...\n",
            "  Processing Fold 2/10...\n",
            "  Processing Fold 3/10...\n",
            "  Processing Fold 4/10...\n",
            "  Processing Fold 5/10...\n",
            "  Processing Fold 6/10...\n",
            "  Processing Fold 7/10...\n",
            "  Processing Fold 8/10...\n",
            "  Processing Fold 9/10...\n",
            "  Processing Fold 10/10...\n",
            "Encoding analysis complete.\n",
            "\n",
            " All encoding models have been trained and evaluated.\n"
          ]
        }
      ]
    },
    {
      "cell_type": "code",
      "source": [
        "import matplotlib.pyplot as plt\n",
        "import seaborn as sns\n",
        "\n",
        "# Plot style\n",
        "sns.set_style(\"whitegrid\")\n",
        "\n",
        "# Histograms for the R-squared scores\n",
        "plt.figure(figsize=(12, 6))\n",
        "sns.histplot(r2_scores_glove, bins=50, color='skyblue', label='GloVe (Static)')\n",
        "sns.histplot(r2_scores_bert, bins=50, color='red', label='BERT (Contextual)')\n",
        "\n",
        "plt.title('Distribution of Voxel Prediction Performance (R² Scores)')\n",
        "plt.xlabel('R-squared (R²)')\n",
        "plt.ylabel('Number of Voxels')\n",
        "plt.legend()\n",
        "plt.show()\n",
        "\n",
        "plt.figure(figsize=(12, 6))\n",
        "sns.histplot(r2_scores_glove[r2_scores_glove > 0], bins=50, color='skyblue', label='GloVe (R² > 0)')\n",
        "sns.histplot(r2_scores_bert[r2_scores_bert > 0], bins=50, color='red', label='BERT (R² > 0)')\n",
        "\n",
        "plt.title('Distribution of Voxel Prediction Performance (Positive R² Scores Only)')\n",
        "plt.xlabel('R-squared (R²)')\n",
        "plt.ylabel('Number of Voxels')\n",
        "plt.legend()\n",
        "plt.show()"
      ],
      "metadata": {
        "colab": {
          "base_uri": "https://localhost:8080/",
          "height": 1000
        },
        "id": "Z65NlsjgMSdm",
        "outputId": "8c701cfe-59a0-4b07-c623-2666998441f7"
      },
      "execution_count": null,
      "outputs": [
        {
          "output_type": "display_data",
          "data": {
            "text/plain": [
              "<Figure size 1200x600 with 1 Axes>"
            ],
            "image/png": "[encoded data removed]"
          },
          "metadata": {}
        },
        {
          "output_type": "display_data",
          "data": {
            "text/plain": [
              "<Figure size 1200x600 with 1 Axes>"
            ],
            "image/png": "[encoded data removed]"
          },
          "metadata": {}
        }
      ]
    },
    {
      "cell_type": "code",
      "source": [
        "# Analysis for GloVe\n",
        "max_r2_glove = np.max(r2_scores_glove)\n",
        "avg_r2_glove = np.mean(r2_scores_glove)\n",
        "\n",
        "# Sets a threshold for what we consider a \"well-predicted\" voxel\n",
        "threshold = 0.03\n",
        "significant_voxels_glove = np.sum(r2_scores_glove > threshold)\n",
        "avg_r2_significant_glove = np.mean(r2_scores_glove[r2_scores_glove > threshold])\n",
        "\n",
        "\n",
        "# Analysis for BERT\n",
        "max_r2_bert = np.max(r2_scores_bert)\n",
        "avg_r2_bert = np.mean(r2_scores_bert)\n",
        "\n",
        "significant_voxels_bert = np.sum(r2_scores_bert > threshold)\n",
        "avg_r2_significant_bert = np.mean(r2_scores_bert[r2_scores_bert > threshold])\n",
        "\n",
        "\n",
        "# Summary Report\n",
        "print(\"Neural Encoding Model Comparison\")\n",
        "print(f\"Total number of voxels: {len(r2_scores_glove)}\\n\")\n",
        "\n",
        "print(\"GloVe (Static) Model\")\n",
        "print(f\"Maximum R² score achieved: {max_r2_glove:.4f}\")\n",
        "print(f\"Average R² score across all voxels: {avg_r2_glove:.4f}\")\n",
        "print(f\"Number of 'significant' voxels (R² > {threshold}): {significant_voxels_glove}\")\n",
        "print(f\"Average R² score for these significant voxels: {avg_r2_significant_glove:.4f}\\n\")\n",
        "\n",
        "\n",
        "print(\"BERT (Contextual) Model\")\n",
        "print(f\"Maximum R² score achieved: {max_r2_bert:.4f}\")\n",
        "print(f\"Average R² score across all voxels: {avg_r2_bert:.4f}\")\n",
        "print(f\"Number of 'significant' voxels (R² > {threshold}): {significant_voxels_bert}\")\n",
        "print(f\"Average R² score for these significant voxels: {avg_r2_significant_bert:.4f}\\n\")"
      ],
      "metadata": {
        "colab": {
          "base_uri": "https://localhost:8080/"
        },
        "id": "pjwlO5kBMbqI",
        "outputId": "89f3add2-916f-4546-d7ea-71053abea889"
      },
      "execution_count": null,
      "outputs": [
        {
          "output_type": "stream",
          "name": "stdout",
          "text": [
            "Neural Encoding Model Comparison\n",
            "Total number of voxels: 185866\n",
            "\n",
            "GloVe (Static) Model\n",
            "Maximum R² score achieved: -0.2746\n",
            "Average R² score across all voxels: -3.0263\n",
            "Number of 'significant' voxels (R² > 0.03): 0\n",
            "Average R² score for these significant voxels: nan\n",
            "\n",
            "BERT (Contextual) Model\n",
            "Maximum R² score achieved: 0.1942\n",
            "Average R² score across all voxels: -0.9287\n",
            "Number of 'significant' voxels (R² > 0.03): 26\n",
            "Average R² score for these significant voxels: 0.1024\n",
            "\n"
          ]
        },
        {
          "output_type": "stream",
          "name": "stderr",
          "text": [
            "/usr/local/lib/python3.11/dist-packages/numpy/core/fromnumeric.py:3504: RuntimeWarning: Mean of empty slice.\n",
            "  return _methods._mean(a, axis=axis, dtype=dtype,\n",
            "/usr/local/lib/python3.11/dist-packages/numpy/core/_methods.py:129: RuntimeWarning: invalid value encountered in scalar divide\n",
            "  ret = ret.dtype.type(ret / rcount)\n"
          ]
        }
      ]
    },
    {
      "cell_type": "markdown",
      "source": [
        "Model Performance: Non-Contextualized (GloVe) vs. Contextual (BERT)\n",
        "\n",
        "The neural encoding analysis revealed a stark contrast in the predictive power of static versus contextual semantic vectors.\n",
        "\n",
        "  1. Non-Contextualized (GloVe) Model:\n",
        "  \n",
        "  The performance of the GloVe-based encoding model was entirely at or below chance level. The distribution of R² scores across all 185,866 voxels was centered far below zero (mean R² = -3.03), with the best-performing voxel still yielding a negative score (max R² = -0.27). A negative R² indicates that the model's predictions were less accurate than a simple baseline model that always predicts the mean voxel activity. Consequently, the GloVe model failed to identify any voxels whose activity was significantly explained by the static sentence vectors.\n",
        "\n",
        "  2. Contextualized (BERT) Model:\n",
        "  \n",
        "      In sharp contrast, the BERT-based model demonstrated significant predictive power. While the average R² across all 185,866 voxels remained negative (mean R² = -0.93), which is expected given that most brain voxels are not language-selective, the model successfully produced a distribution with a tail of positive R² scores. The second histogram, which visualizes all voxels with a positive R² score, shows that a total of 55 voxels were predicted better than chance.\n",
        "      \n",
        "      To focus on the most robustly predicted regions, we applied a more stringent significance threshold of R² > 0.03. Using this criterion, the BERT model identified a core set of 30 voxels whose activity was significantly explained by the contextual embeddings. The predictive quality for this subset was strong and meaningful, with an average R² of 0.096 and a maximum R² of 0.198. This indicates that for the best-predicted voxel, the contextual sentence representations could account for nearly 20% of the variance in its fMRI signal—a substantial and scientifically significant effect in neuroimaging studies.\n",
        "\n",
        "Conclusion and Interpretation\n",
        "\n",
        "The results from the encoding analysis provide clear and compelling evidence that context is critical for modeling the neural representation of sentence meaning.\n",
        "\n",
        "The complete failure of the static GloVe model suggests that simple, averaged word embeddings do not retain enough nuanced information to predict voxel-level brain activity. The success of the BERT model, however, demonstrates that modern, context-aware embeddings capture semantic properties that are systematically mapped in the brain. The 30 voxels successfully predicted by the BERT model are prime candidates for being part of the high-level language network, as their activity patterns are directly and predictively linked to the rich, context-dependent meaning of the sentences being processed. This finding strongly supports the use of contextualized models like BERT as a powerful tool for investigating the neural basis of language comprehension."
      ],
      "metadata": {
        "id": "WXG7rslY247i"
      }
    }
  ],
  "metadata": {
    "colab": {
      "provenance": []
    },
    "kernelspec": {
      "display_name": "Python 3",
      "name": "python3"
    },
    "widgets": {
      "application/vnd.jupyter.widget-state+json": {
        "77091da2ea6c40558a0aafc3fdab9d86": {
          "model_module": "@jupyter-widgets/controls",
          "model_name": "HBoxModel",
          "model_module_version": "1.5.0",
          "state": {
            "_dom_classes": [],
            "_model_module": "@jupyter-widgets/controls",
            "_model_module_version": "1.5.0",
            "_model_name": "HBoxModel",
            "_view_count": null,
            "_view_module": "@jupyter-widgets/controls",
            "_view_module_version": "1.5.0",
            "_view_name": "HBoxView",
            "box_style": "",
            "children": [
              "IPY_MODEL_6add2c1a912f40f4ad64d0bad0168b59",
              "IPY_MODEL_bd456cde87494c4d9e20abee5247a130",
              "IPY_MODEL_be8ebadb18dc40b99e345fbb1415842f"
            ],
            "layout": "IPY_MODEL_599af20d10994884ae9c260f64dd3c7a"
          }
        },
        "6add2c1a912f40f4ad64d0bad0168b59": {
          "model_module": "@jupyter-widgets/controls",
          "model_name": "HTMLModel",
          "model_module_version": "1.5.0",
          "state": {
            "_dom_classes": [],
            "_model_module": "@jupyter-widgets/controls",
            "_model_module_version": "1.5.0",
            "_model_name": "HTMLModel",
            "_view_count": null,
            "_view_module": "@jupyter-widgets/controls",
            "_view_module_version": "1.5.0",
            "_view_name": "HTMLView",
            "description": "",
            "description_tooltip": null,
            "layout": "IPY_MODEL_2e6b6a8c5f8a4bd49b9485b029d778e2",
            "placeholder": "​",
            "style": "IPY_MODEL_7fc010a4e38a42ad8877d7efe5272289",
            "value": "tokenizer_config.json: 100%"
          }
        },
        "bd456cde87494c4d9e20abee5247a130": {
          "model_module": "@jupyter-widgets/controls",
          "model_name": "FloatProgressModel",
          "model_module_version": "1.5.0",
          "state": {
            "_dom_classes": [],
            "_model_module": "@jupyter-widgets/controls",
            "_model_module_version": "1.5.0",
            "_model_name": "FloatProgressModel",
            "_view_count": null,
            "_view_module": "@jupyter-widgets/controls",
            "_view_module_version": "1.5.0",
            "_view_name": "ProgressView",
            "bar_style": "success",
            "description": "",
            "description_tooltip": null,
            "layout": "IPY_MODEL_1e3c929e61fc4baeba6581ec7fb0cdc4",
            "max": 48,
            "min": 0,
            "orientation": "horizontal",
            "style": "IPY_MODEL_f6b5216d45e546729f88a19f340bc685",
            "value": 48
          }
        },
        "be8ebadb18dc40b99e345fbb1415842f": {
          "model_module": "@jupyter-widgets/controls",
          "model_name": "HTMLModel",
          "model_module_version": "1.5.0",
          "state": {
            "_dom_classes": [],
            "_model_module": "@jupyter-widgets/controls",
            "_model_module_version": "1.5.0",
            "_model_name": "HTMLModel",
            "_view_count": null,
            "_view_module": "@jupyter-widgets/controls",
            "_view_module_version": "1.5.0",
            "_view_name": "HTMLView",
            "description": "",
            "description_tooltip": null,
            "layout": "IPY_MODEL_7b8d1fa1124a4caa9b8d7951c8b89539",
            "placeholder": "​",
            "style": "IPY_MODEL_d20ce421c325491b8396c31cd3711b46",
            "value": " 48.0/48.0 [00:00&lt;00:00, 1.25kB/s]"
          }
        },
        "599af20d10994884ae9c260f64dd3c7a": {
          "model_module": "@jupyter-widgets/base",
          "model_name": "LayoutModel",
          "model_module_version": "1.2.0",
          "state": {
            "_model_module": "@jupyter-widgets/base",
            "_model_module_version": "1.2.0",
            "_model_name": "LayoutModel",
            "_view_count": null,
            "_view_module": "@jupyter-widgets/base",
            "_view_module_version": "1.2.0",
            "_view_name": "LayoutView",
            "align_content": null,
            "align_items": null,
            "align_self": null,
            "border": null,
            "bottom": null,
            "display": null,
            "flex": null,
            "flex_flow": null,
            "grid_area": null,
            "grid_auto_columns": null,
            "grid_auto_flow": null,
            "grid_auto_rows": null,
            "grid_column": null,
            "grid_gap": null,
            "grid_row": null,
            "grid_template_areas": null,
            "grid_template_columns": null,
            "grid_template_rows": null,
            "height": null,
            "justify_content": null,
            "justify_items": null,
            "left": null,
            "margin": null,
            "max_height": null,
            "max_width": null,
            "min_height": null,
            "min_width": null,
            "object_fit": null,
            "object_position": null,
            "order": null,
            "overflow": null,
            "overflow_x": null,
            "overflow_y": null,
            "padding": null,
            "right": null,
            "top": null,
            "visibility": null,
            "width": null
          }
        },
        "2e6b6a8c5f8a4bd49b9485b029d778e2": {
          "model_module": "@jupyter-widgets/base",
          "model_name": "LayoutModel",
          "model_module_version": "1.2.0",
          "state": {
            "_model_module": "@jupyter-widgets/base",
            "_model_module_version": "1.2.0",
            "_model_name": "LayoutModel",
            "_view_count": null,
            "_view_module": "@jupyter-widgets/base",
            "_view_module_version": "1.2.0",
            "_view_name": "LayoutView",
            "align_content": null,
            "align_items": null,
            "align_self": null,
            "border": null,
            "bottom": null,
            "display": null,
            "flex": null,
            "flex_flow": null,
            "grid_area": null,
            "grid_auto_columns": null,
            "grid_auto_flow": null,
            "grid_auto_rows": null,
            "grid_column": null,
            "grid_gap": null,
            "grid_row": null,
            "grid_template_areas": null,
            "grid_template_columns": null,
            "grid_template_rows": null,
            "height": null,
            "justify_content": null,
            "justify_items": null,
            "left": null,
            "margin": null,
            "max_height": null,
            "max_width": null,
            "min_height": null,
            "min_width": null,
            "object_fit": null,
            "object_position": null,
            "order": null,
            "overflow": null,
            "overflow_x": null,
            "overflow_y": null,
            "padding": null,
            "right": null,
            "top": null,
            "visibility": null,
            "width": null
          }
        },
        "7fc010a4e38a42ad8877d7efe5272289": {
          "model_module": "@jupyter-widgets/controls",
          "model_name": "DescriptionStyleModel",
          "model_module_version": "1.5.0",
          "state": {
            "_model_module": "@jupyter-widgets/controls",
            "_model_module_version": "1.5.0",
            "_model_name": "DescriptionStyleModel",
            "_view_count": null,
            "_view_module": "@jupyter-widgets/base",
            "_view_module_version": "1.2.0",
            "_view_name": "StyleView",
            "description_width": ""
          }
        },
        "1e3c929e61fc4baeba6581ec7fb0cdc4": {
          "model_module": "@jupyter-widgets/base",
          "model_name": "LayoutModel",
          "model_module_version": "1.2.0",
          "state": {
            "_model_module": "@jupyter-widgets/base",
            "_model_module_version": "1.2.0",
            "_model_name": "LayoutModel",
            "_view_count": null,
            "_view_module": "@jupyter-widgets/base",
            "_view_module_version": "1.2.0",
            "_view_name": "LayoutView",
            "align_content": null,
            "align_items": null,
            "align_self": null,
            "border": null,
            "bottom": null,
            "display": null,
            "flex": null,
            "flex_flow": null,
            "grid_area": null,
            "grid_auto_columns": null,
            "grid_auto_flow": null,
            "grid_auto_rows": null,
            "grid_column": null,
            "grid_gap": null,
            "grid_row": null,
            "grid_template_areas": null,
            "grid_template_columns": null,
            "grid_template_rows": null,
            "height": null,
            "justify_content": null,
            "justify_items": null,
            "left": null,
            "margin": null,
            "max_height": null,
            "max_width": null,
            "min_height": null,
            "min_width": null,
            "object_fit": null,
            "object_position": null,
            "order": null,
            "overflow": null,
            "overflow_x": null,
            "overflow_y": null,
            "padding": null,
            "right": null,
            "top": null,
            "visibility": null,
            "width": null
          }
        },
        "f6b5216d45e546729f88a19f340bc685": {
          "model_module": "@jupyter-widgets/controls",
          "model_name": "ProgressStyleModel",
          "model_module_version": "1.5.0",
          "state": {
            "_model_module": "@jupyter-widgets/controls",
            "_model_module_version": "1.5.0",
            "_model_name": "ProgressStyleModel",
            "_view_count": null,
            "_view_module": "@jupyter-widgets/base",
            "_view_module_version": "1.2.0",
            "_view_name": "StyleView",
            "bar_color": null,
            "description_width": ""
          }
        },
        "7b8d1fa1124a4caa9b8d7951c8b89539": {
          "model_module": "@jupyter-widgets/base",
          "model_name": "LayoutModel",
          "model_module_version": "1.2.0",
          "state": {
            "_model_module": "@jupyter-widgets/base",
            "_model_module_version": "1.2.0",
            "_model_name": "LayoutModel",
            "_view_count": null,
            "_view_module": "@jupyter-widgets/base",
            "_view_module_version": "1.2.0",
            "_view_name": "LayoutView",
            "align_content": null,
            "align_items": null,
            "align_self": null,
            "border": null,
            "bottom": null,
            "display": null,
            "flex": null,
            "flex_flow": null,
            "grid_area": null,
            "grid_auto_columns": null,
            "grid_auto_flow": null,
            "grid_auto_rows": null,
            "grid_column": null,
            "grid_gap": null,
            "grid_row": null,
            "grid_template_areas": null,
            "grid_template_columns": null,
            "grid_template_rows": null,
            "height": null,
            "justify_content": null,
            "justify_items": null,
            "left": null,
            "margin": null,
            "max_height": null,
            "max_width": null,
            "min_height": null,
            "min_width": null,
            "object_fit": null,
            "object_position": null,
            "order": null,
            "overflow": null,
            "overflow_x": null,
            "overflow_y": null,
            "padding": null,
            "right": null,
            "top": null,
            "visibility": null,
            "width": null
          }
        },
        "d20ce421c325491b8396c31cd3711b46": {
          "model_module": "@jupyter-widgets/controls",
          "model_name": "DescriptionStyleModel",
          "model_module_version": "1.5.0",
          "state": {
            "_model_module": "@jupyter-widgets/controls",
            "_model_module_version": "1.5.0",
            "_model_name": "DescriptionStyleModel",
            "_view_count": null,
            "_view_module": "@jupyter-widgets/base",
            "_view_module_version": "1.2.0",
            "_view_name": "StyleView",
            "description_width": ""
          }
        },
        "a6eeb3a274a844ad90aee41a4492d8ac": {
          "model_module": "@jupyter-widgets/controls",
          "model_name": "HBoxModel",
          "model_module_version": "1.5.0",
          "state": {
            "_dom_classes": [],
            "_model_module": "@jupyter-widgets/controls",
            "_model_module_version": "1.5.0",
            "_model_name": "HBoxModel",
            "_view_count": null,
            "_view_module": "@jupyter-widgets/controls",
            "_view_module_version": "1.5.0",
            "_view_name": "HBoxView",
            "box_style": "",
            "children": [
              "IPY_MODEL_1e276f4ed315419aa464c726a13dc67e",
              "IPY_MODEL_843a7193c08743b1a68fc996e737964d",
              "IPY_MODEL_89d39497a7b8489089972d8da89ace75"
            ],
            "layout": "IPY_MODEL_2669eaed67104af3b3ad445542a4240f"
          }
        },
        "1e276f4ed315419aa464c726a13dc67e": {
          "model_module": "@jupyter-widgets/controls",
          "model_name": "HTMLModel",
          "model_module_version": "1.5.0",
          "state": {
            "_dom_classes": [],
            "_model_module": "@jupyter-widgets/controls",
            "_model_module_version": "1.5.0",
            "_model_name": "HTMLModel",
            "_view_count": null,
            "_view_module": "@jupyter-widgets/controls",
            "_view_module_version": "1.5.0",
            "_view_name": "HTMLView",
            "description": "",
            "description_tooltip": null,
            "layout": "IPY_MODEL_42f0cd27fb754e3cb013bc62562b75a0",
            "placeholder": "​",
            "style": "IPY_MODEL_f716957483354450a54a9a6ac8bb992c",
            "value": "vocab.txt: 100%"
          }
        },
        "843a7193c08743b1a68fc996e737964d": {
          "model_module": "@jupyter-widgets/controls",
          "model_name": "FloatProgressModel",
          "model_module_version": "1.5.0",
          "state": {
            "_dom_classes": [],
            "_model_module": "@jupyter-widgets/controls",
            "_model_module_version": "1.5.0",
            "_model_name": "FloatProgressModel",
            "_view_count": null,
            "_view_module": "@jupyter-widgets/controls",
            "_view_module_version": "1.5.0",
            "_view_name": "ProgressView",
            "bar_style": "success",
            "description": "",
            "description_tooltip": null,
            "layout": "IPY_MODEL_1f156f8c4020400a889082ce6fc863ff",
            "max": 231508,
            "min": 0,
            "orientation": "horizontal",
            "style": "IPY_MODEL_baf5a0537b4c44b79a9fed08dd0841de",
            "value": 231508
          }
        },
        "89d39497a7b8489089972d8da89ace75": {
          "model_module": "@jupyter-widgets/controls",
          "model_name": "HTMLModel",
          "model_module_version": "1.5.0",
          "state": {
            "_dom_classes": [],
            "_model_module": "@jupyter-widgets/controls",
            "_model_module_version": "1.5.0",
            "_model_name": "HTMLModel",
            "_view_count": null,
            "_view_module": "@jupyter-widgets/controls",
            "_view_module_version": "1.5.0",
            "_view_name": "HTMLView",
            "description": "",
            "description_tooltip": null,
            "layout": "IPY_MODEL_bf0b1f64386e4b4484fcd3968efd3950",
            "placeholder": "​",
            "style": "IPY_MODEL_46ab9ded403d41bf903c6beb76f9736c",
            "value": " 232k/232k [00:00&lt;00:00, 2.35MB/s]"
          }
        },
        "2669eaed67104af3b3ad445542a4240f": {
          "model_module": "@jupyter-widgets/base",
          "model_name": "LayoutModel",
          "model_module_version": "1.2.0",
          "state": {
            "_model_module": "@jupyter-widgets/base",
            "_model_module_version": "1.2.0",
            "_model_name": "LayoutModel",
            "_view_count": null,
            "_view_module": "@jupyter-widgets/base",
            "_view_module_version": "1.2.0",
            "_view_name": "LayoutView",
            "align_content": null,
            "align_items": null,
            "align_self": null,
            "border": null,
            "bottom": null,
            "display": null,
            "flex": null,
            "flex_flow": null,
            "grid_area": null,
            "grid_auto_columns": null,
            "grid_auto_flow": null,
            "grid_auto_rows": null,
            "grid_column": null,
            "grid_gap": null,
            "grid_row": null,
            "grid_template_areas": null,
            "grid_template_columns": null,
            "grid_template_rows": null,
            "height": null,
            "justify_content": null,
            "justify_items": null,
            "left": null,
            "margin": null,
            "max_height": null,
            "max_width": null,
            "min_height": null,
            "min_width": null,
            "object_fit": null,
            "object_position": null,
            "order": null,
            "overflow": null,
            "overflow_x": null,
            "overflow_y": null,
            "padding": null,
            "right": null,
            "top": null,
            "visibility": null,
            "width": null
          }
        },
        "42f0cd27fb754e3cb013bc62562b75a0": {
          "model_module": "@jupyter-widgets/base",
          "model_name": "LayoutModel",
          "model_module_version": "1.2.0",
          "state": {
            "_model_module": "@jupyter-widgets/base",
            "_model_module_version": "1.2.0",
            "_model_name": "LayoutModel",
            "_view_count": null,
            "_view_module": "@jupyter-widgets/base",
            "_view_module_version": "1.2.0",
            "_view_name": "LayoutView",
            "align_content": null,
            "align_items": null,
            "align_self": null,
            "border": null,
            "bottom": null,
            "display": null,
            "flex": null,
            "flex_flow": null,
            "grid_area": null,
            "grid_auto_columns": null,
            "grid_auto_flow": null,
            "grid_auto_rows": null,
            "grid_column": null,
            "grid_gap": null,
            "grid_row": null,
            "grid_template_areas": null,
            "grid_template_columns": null,
            "grid_template_rows": null,
            "height": null,
            "justify_content": null,
            "justify_items": null,
            "left": null,
            "margin": null,
            "max_height": null,
            "max_width": null,
            "min_height": null,
            "min_width": null,
            "object_fit": null,
            "object_position": null,
            "order": null,
            "overflow": null,
            "overflow_x": null,
            "overflow_y": null,
            "padding": null,
            "right": null,
            "top": null,
            "visibility": null,
            "width": null
          }
        },
        "f716957483354450a54a9a6ac8bb992c": {
          "model_module": "@jupyter-widgets/controls",
          "model_name": "DescriptionStyleModel",
          "model_module_version": "1.5.0",
          "state": {
            "_model_module": "@jupyter-widgets/controls",
            "_model_module_version": "1.5.0",
            "_model_name": "DescriptionStyleModel",
            "_view_count": null,
            "_view_module": "@jupyter-widgets/base",
            "_view_module_version": "1.2.0",
            "_view_name": "StyleView",
            "description_width": ""
          }
        },
        "1f156f8c4020400a889082ce6fc863ff": {
          "model_module": "@jupyter-widgets/base",
          "model_name": "LayoutModel",
          "model_module_version": "1.2.0",
          "state": {
            "_model_module": "@jupyter-widgets/base",
            "_model_module_version": "1.2.0",
            "_model_name": "LayoutModel",
            "_view_count": null,
            "_view_module": "@jupyter-widgets/base",
            "_view_module_version": "1.2.0",
            "_view_name": "LayoutView",
            "align_content": null,
            "align_items": null,
            "align_self": null,
            "border": null,
            "bottom": null,
            "display": null,
            "flex": null,
            "flex_flow": null,
            "grid_area": null,
            "grid_auto_columns": null,
            "grid_auto_flow": null,
            "grid_auto_rows": null,
            "grid_column": null,
            "grid_gap": null,
            "grid_row": null,
            "grid_template_areas": null,
            "grid_template_columns": null,
            "grid_template_rows": null,
            "height": null,
            "justify_content": null,
            "justify_items": null,
            "left": null,
            "margin": null,
            "max_height": null,
            "max_width": null,
            "min_height": null,
            "min_width": null,
            "object_fit": null,
            "object_position": null,
            "order": null,
            "overflow": null,
            "overflow_x": null,
            "overflow_y": null,
            "padding": null,
            "right": null,
            "top": null,
            "visibility": null,
            "width": null
          }
        },
        "baf5a0537b4c44b79a9fed08dd0841de": {
          "model_module": "@jupyter-widgets/controls",
          "model_name": "ProgressStyleModel",
          "model_module_version": "1.5.0",
          "state": {
            "_model_module": "@jupyter-widgets/controls",
            "_model_module_version": "1.5.0",
            "_model_name": "ProgressStyleModel",
            "_view_count": null,
            "_view_module": "@jupyter-widgets/base",
            "_view_module_version": "1.2.0",
            "_view_name": "StyleView",
            "bar_color": null,
            "description_width": ""
          }
        },
        "bf0b1f64386e4b4484fcd3968efd3950": {
          "model_module": "@jupyter-widgets/base",
          "model_name": "LayoutModel",
          "model_module_version": "1.2.0",
          "state": {
            "_model_module": "@jupyter-widgets/base",
            "_model_module_version": "1.2.0",
            "_model_name": "LayoutModel",
            "_view_count": null,
            "_view_module": "@jupyter-widgets/base",
            "_view_module_version": "1.2.0",
            "_view_name": "LayoutView",
            "align_content": null,
            "align_items": null,
            "align_self": null,
            "border": null,
            "bottom": null,
            "display": null,
            "flex": null,
            "flex_flow": null,
            "grid_area": null,
            "grid_auto_columns": null,
            "grid_auto_flow": null,
            "grid_auto_rows": null,
            "grid_column": null,
            "grid_gap": null,
            "grid_row": null,
            "grid_template_areas": null,
            "grid_template_columns": null,
            "grid_template_rows": null,
            "height": null,
            "justify_content": null,
            "justify_items": null,
            "left": null,
            "margin": null,
            "max_height": null,
            "max_width": null,
            "min_height": null,
            "min_width": null,
            "object_fit": null,
            "object_position": null,
            "order": null,
            "overflow": null,
            "overflow_x": null,
            "overflow_y": null,
            "padding": null,
            "right": null,
            "top": null,
            "visibility": null,
            "width": null
          }
        },
        "46ab9ded403d41bf903c6beb76f9736c": {
          "model_module": "@jupyter-widgets/controls",
          "model_name": "DescriptionStyleModel",
          "model_module_version": "1.5.0",
          "state": {
            "_model_module": "@jupyter-widgets/controls",
            "_model_module_version": "1.5.0",
            "_model_name": "DescriptionStyleModel",
            "_view_count": null,
            "_view_module": "@jupyter-widgets/base",
            "_view_module_version": "1.2.0",
            "_view_name": "StyleView",
            "description_width": ""
          }
        },
        "c91a12d95660464b82e97e3e63a5c332": {
          "model_module": "@jupyter-widgets/controls",
          "model_name": "HBoxModel",
          "model_module_version": "1.5.0",
          "state": {
            "_dom_classes": [],
            "_model_module": "@jupyter-widgets/controls",
            "_model_module_version": "1.5.0",
            "_model_name": "HBoxModel",
            "_view_count": null,
            "_view_module": "@jupyter-widgets/controls",
            "_view_module_version": "1.5.0",
            "_view_name": "HBoxView",
            "box_style": "",
            "children": [
              "IPY_MODEL_8f67c8e12cfe4db59818babb261c2b36",
              "IPY_MODEL_fe899e64ef7c43009383eda2e1912e18",
              "IPY_MODEL_629d05e7892c485593a6c89f63c9532a"
            ],
            "layout": "IPY_MODEL_a573f30625174a0d829232aa36cc69ab"
          }
        },
        "8f67c8e12cfe4db59818babb261c2b36": {
          "model_module": "@jupyter-widgets/controls",
          "model_name": "HTMLModel",
          "model_module_version": "1.5.0",
          "state": {
            "_dom_classes": [],
            "_model_module": "@jupyter-widgets/controls",
            "_model_module_version": "1.5.0",
            "_model_name": "HTMLModel",
            "_view_count": null,
            "_view_module": "@jupyter-widgets/controls",
            "_view_module_version": "1.5.0",
            "_view_name": "HTMLView",
            "description": "",
            "description_tooltip": null,
            "layout": "IPY_MODEL_ece491af8d684648a332d4ff96ff7642",
            "placeholder": "​",
            "style": "IPY_MODEL_1e55b63df44045ec8e732c2bc45a30d6",
            "value": "tokenizer.json: 100%"
          }
        },
        "fe899e64ef7c43009383eda2e1912e18": {
          "model_module": "@jupyter-widgets/controls",
          "model_name": "FloatProgressModel",
          "model_module_version": "1.5.0",
          "state": {
            "_dom_classes": [],
            "_model_module": "@jupyter-widgets/controls",
            "_model_module_version": "1.5.0",
            "_model_name": "FloatProgressModel",
            "_view_count": null,
            "_view_module": "@jupyter-widgets/controls",
            "_view_module_version": "1.5.0",
            "_view_name": "ProgressView",
            "bar_style": "success",
            "description": "",
            "description_tooltip": null,
            "layout": "IPY_MODEL_406f26117cc44bb49c8a066edaf0172d",
            "max": 466062,
            "min": 0,
            "orientation": "horizontal",
            "style": "IPY_MODEL_244ec51fe98a419d925a1c02e3c765be",
            "value": 466062
          }
        },
        "629d05e7892c485593a6c89f63c9532a": {
          "model_module": "@jupyter-widgets/controls",
          "model_name": "HTMLModel",
          "model_module_version": "1.5.0",
          "state": {
            "_dom_classes": [],
            "_model_module": "@jupyter-widgets/controls",
            "_model_module_version": "1.5.0",
            "_model_name": "HTMLModel",
            "_view_count": null,
            "_view_module": "@jupyter-widgets/controls",
            "_view_module_version": "1.5.0",
            "_view_name": "HTMLView",
            "description": "",
            "description_tooltip": null,
            "layout": "IPY_MODEL_91351fe9cd6448878924d8e15b23feff",
            "placeholder": "​",
            "style": "IPY_MODEL_da396850acb64e38bda33dbc95b6a975",
            "value": " 466k/466k [00:00&lt;00:00, 4.42MB/s]"
          }
        },
        "a573f30625174a0d829232aa36cc69ab": {
          "model_module": "@jupyter-widgets/base",
          "model_name": "LayoutModel",
          "model_module_version": "1.2.0",
          "state": {
            "_model_module": "@jupyter-widgets/base",
            "_model_module_version": "1.2.0",
            "_model_name": "LayoutModel",
            "_view_count": null,
            "_view_module": "@jupyter-widgets/base",
            "_view_module_version": "1.2.0",
            "_view_name": "LayoutView",
            "align_content": null,
            "align_items": null,
            "align_self": null,
            "border": null,
            "bottom": null,
            "display": null,
            "flex": null,
            "flex_flow": null,
            "grid_area": null,
            "grid_auto_columns": null,
            "grid_auto_flow": null,
            "grid_auto_rows": null,
            "grid_column": null,
            "grid_gap": null,
            "grid_row": null,
            "grid_template_areas": null,
            "grid_template_columns": null,
            "grid_template_rows": null,
            "height": null,
            "justify_content": null,
            "justify_items": null,
            "left": null,
            "margin": null,
            "max_height": null,
            "max_width": null,
            "min_height": null,
            "min_width": null,
            "object_fit": null,
            "object_position": null,
            "order": null,
            "overflow": null,
            "overflow_x": null,
            "overflow_y": null,
            "padding": null,
            "right": null,
            "top": null,
            "visibility": null,
            "width": null
          }
        },
        "ece491af8d684648a332d4ff96ff7642": {
          "model_module": "@jupyter-widgets/base",
          "model_name": "LayoutModel",
          "model_module_version": "1.2.0",
          "state": {
            "_model_module": "@jupyter-widgets/base",
            "_model_module_version": "1.2.0",
            "_model_name": "LayoutModel",
            "_view_count": null,
            "_view_module": "@jupyter-widgets/base",
            "_view_module_version": "1.2.0",
            "_view_name": "LayoutView",
            "align_content": null,
            "align_items": null,
            "align_self": null,
            "border": null,
            "bottom": null,
            "display": null,
            "flex": null,
            "flex_flow": null,
            "grid_area": null,
            "grid_auto_columns": null,
            "grid_auto_flow": null,
            "grid_auto_rows": null,
            "grid_column": null,
            "grid_gap": null,
            "grid_row": null,
            "grid_template_areas": null,
            "grid_template_columns": null,
            "grid_template_rows": null,
            "height": null,
            "justify_content": null,
            "justify_items": null,
            "left": null,
            "margin": null,
            "max_height": null,
            "max_width": null,
            "min_height": null,
            "min_width": null,
            "object_fit": null,
            "object_position": null,
            "order": null,
            "overflow": null,
            "overflow_x": null,
            "overflow_y": null,
            "padding": null,
            "right": null,
            "top": null,
            "visibility": null,
            "width": null
          }
        },
        "1e55b63df44045ec8e732c2bc45a30d6": {
          "model_module": "@jupyter-widgets/controls",
          "model_name": "DescriptionStyleModel",
          "model_module_version": "1.5.0",
          "state": {
            "_model_module": "@jupyter-widgets/controls",
            "_model_module_version": "1.5.0",
            "_model_name": "DescriptionStyleModel",
            "_view_count": null,
            "_view_module": "@jupyter-widgets/base",
            "_view_module_version": "1.2.0",
            "_view_name": "StyleView",
            "description_width": ""
          }
        },
        "406f26117cc44bb49c8a066edaf0172d": {
          "model_module": "@jupyter-widgets/base",
          "model_name": "LayoutModel",
          "model_module_version": "1.2.0",
          "state": {
            "_model_module": "@jupyter-widgets/base",
            "_model_module_version": "1.2.0",
            "_model_name": "LayoutModel",
            "_view_count": null,
            "_view_module": "@jupyter-widgets/base",
            "_view_module_version": "1.2.0",
            "_view_name": "LayoutView",
            "align_content": null,
            "align_items": null,
            "align_self": null,
            "border": null,
            "bottom": null,
            "display": null,
            "flex": null,
            "flex_flow": null,
            "grid_area": null,
            "grid_auto_columns": null,
            "grid_auto_flow": null,
            "grid_auto_rows": null,
            "grid_column": null,
            "grid_gap": null,
            "grid_row": null,
            "grid_template_areas": null,
            "grid_template_columns": null,
            "grid_template_rows": null,
            "height": null,
            "justify_content": null,
            "justify_items": null,
            "left": null,
            "margin": null,
            "max_height": null,
            "max_width": null,
            "min_height": null,
            "min_width": null,
            "object_fit": null,
            "object_position": null,
            "order": null,
            "overflow": null,
            "overflow_x": null,
            "overflow_y": null,
            "padding": null,
            "right": null,
            "top": null,
            "visibility": null,
            "width": null
          }
        },
        "244ec51fe98a419d925a1c02e3c765be": {
          "model_module": "@jupyter-widgets/controls",
          "model_name": "ProgressStyleModel",
          "model_module_version": "1.5.0",
          "state": {
            "_model_module": "@jupyter-widgets/controls",
            "_model_module_version": "1.5.0",
            "_model_name": "ProgressStyleModel",
            "_view_count": null,
            "_view_module": "@jupyter-widgets/base",
            "_view_module_version": "1.2.0",
            "_view_name": "StyleView",
            "bar_color": null,
            "description_width": ""
          }
        },
        "91351fe9cd6448878924d8e15b23feff": {
          "model_module": "@jupyter-widgets/base",
          "model_name": "LayoutModel",
          "model_module_version": "1.2.0",
          "state": {
            "_model_module": "@jupyter-widgets/base",
            "_model_module_version": "1.2.0",
            "_model_name": "LayoutModel",
            "_view_count": null,
            "_view_module": "@jupyter-widgets/base",
            "_view_module_version": "1.2.0",
            "_view_name": "LayoutView",
            "align_content": null,
            "align_items": null,
            "align_self": null,
            "border": null,
            "bottom": null,
            "display": null,
            "flex": null,
            "flex_flow": null,
            "grid_area": null,
            "grid_auto_columns": null,
            "grid_auto_flow": null,
            "grid_auto_rows": null,
            "grid_column": null,
            "grid_gap": null,
            "grid_row": null,
            "grid_template_areas": null,
            "grid_template_columns": null,
            "grid_template_rows": null,
            "height": null,
            "justify_content": null,
            "justify_items": null,
            "left": null,
            "margin": null,
            "max_height": null,
            "max_width": null,
            "min_height": null,
            "min_width": null,
            "object_fit": null,
            "object_position": null,
            "order": null,
            "overflow": null,
            "overflow_x": null,
            "overflow_y": null,
            "padding": null,
            "right": null,
            "top": null,
            "visibility": null,
            "width": null
          }
        },
        "da396850acb64e38bda33dbc95b6a975": {
          "model_module": "@jupyter-widgets/controls",
          "model_name": "DescriptionStyleModel",
          "model_module_version": "1.5.0",
          "state": {
            "_model_module": "@jupyter-widgets/controls",
            "_model_module_version": "1.5.0",
            "_model_name": "DescriptionStyleModel",
            "_view_count": null,
            "_view_module": "@jupyter-widgets/base",
            "_view_module_version": "1.2.0",
            "_view_name": "StyleView",
            "description_width": ""
          }
        },
        "4d493e3ed0c048899071f28b59d7afb2": {
          "model_module": "@jupyter-widgets/controls",
          "model_name": "HBoxModel",
          "model_module_version": "1.5.0",
          "state": {
            "_dom_classes": [],
            "_model_module": "@jupyter-widgets/controls",
            "_model_module_version": "1.5.0",
            "_model_name": "HBoxModel",
            "_view_count": null,
            "_view_module": "@jupyter-widgets/controls",
            "_view_module_version": "1.5.0",
            "_view_name": "HBoxView",
            "box_style": "",
            "children": [
              "IPY_MODEL_b4f192ee8e884c5aace278246a50a448",
              "IPY_MODEL_014cf345b4aa4a978bb523c4103434f3",
              "IPY_MODEL_cac266694a3b44d08463927ccc4b2910"
            ],
            "layout": "IPY_MODEL_ed1de6c8e80142beac0fbd4842001fef"
          }
        },
        "b4f192ee8e884c5aace278246a50a448": {
          "model_module": "@jupyter-widgets/controls",
          "model_name": "HTMLModel",
          "model_module_version": "1.5.0",
          "state": {
            "_dom_classes": [],
            "_model_module": "@jupyter-widgets/controls",
            "_model_module_version": "1.5.0",
            "_model_name": "HTMLModel",
            "_view_count": null,
            "_view_module": "@jupyter-widgets/controls",
            "_view_module_version": "1.5.0",
            "_view_name": "HTMLView",
            "description": "",
            "description_tooltip": null,
            "layout": "IPY_MODEL_3e052cb88e1b4a489b6cdbc1fa19647e",
            "placeholder": "​",
            "style": "IPY_MODEL_a9e161133f174e6290d4e358708374dc",
            "value": "config.json: 100%"
          }
        },
        "014cf345b4aa4a978bb523c4103434f3": {
          "model_module": "@jupyter-widgets/controls",
          "model_name": "FloatProgressModel",
          "model_module_version": "1.5.0",
          "state": {
            "_dom_classes": [],
            "_model_module": "@jupyter-widgets/controls",
            "_model_module_version": "1.5.0",
            "_model_name": "FloatProgressModel",
            "_view_count": null,
            "_view_module": "@jupyter-widgets/controls",
            "_view_module_version": "1.5.0",
            "_view_name": "ProgressView",
            "bar_style": "success",
            "description": "",
            "description_tooltip": null,
            "layout": "IPY_MODEL_1b2b574fa39e485f91c503bb71da1f52",
            "max": 570,
            "min": 0,
            "orientation": "horizontal",
            "style": "IPY_MODEL_973048f2c5d9441fbc9b427dcdb3c0d5",
            "value": 570
          }
        },
        "cac266694a3b44d08463927ccc4b2910": {
          "model_module": "@jupyter-widgets/controls",
          "model_name": "HTMLModel",
          "model_module_version": "1.5.0",
          "state": {
            "_dom_classes": [],
            "_model_module": "@jupyter-widgets/controls",
            "_model_module_version": "1.5.0",
            "_model_name": "HTMLModel",
            "_view_count": null,
            "_view_module": "@jupyter-widgets/controls",
            "_view_module_version": "1.5.0",
            "_view_name": "HTMLView",
            "description": "",
            "description_tooltip": null,
            "layout": "IPY_MODEL_7dd03d48aa584187bef21dde9f99ea54",
            "placeholder": "​",
            "style": "IPY_MODEL_2c141be38a2a4a0887448b4f9b8286d7",
            "value": " 570/570 [00:00&lt;00:00, 13.7kB/s]"
          }
        },
        "ed1de6c8e80142beac0fbd4842001fef": {
          "model_module": "@jupyter-widgets/base",
          "model_name": "LayoutModel",
          "model_module_version": "1.2.0",
          "state": {
            "_model_module": "@jupyter-widgets/base",
            "_model_module_version": "1.2.0",
            "_model_name": "LayoutModel",
            "_view_count": null,
            "_view_module": "@jupyter-widgets/base",
            "_view_module_version": "1.2.0",
            "_view_name": "LayoutView",
            "align_content": null,
            "align_items": null,
            "align_self": null,
            "border": null,
            "bottom": null,
            "display": null,
            "flex": null,
            "flex_flow": null,
            "grid_area": null,
            "grid_auto_columns": null,
            "grid_auto_flow": null,
            "grid_auto_rows": null,
            "grid_column": null,
            "grid_gap": null,
            "grid_row": null,
            "grid_template_areas": null,
            "grid_template_columns": null,
            "grid_template_rows": null,
            "height": null,
            "justify_content": null,
            "justify_items": null,
            "left": null,
            "margin": null,
            "max_height": null,
            "max_width": null,
            "min_height": null,
            "min_width": null,
            "object_fit": null,
            "object_position": null,
            "order": null,
            "overflow": null,
            "overflow_x": null,
            "overflow_y": null,
            "padding": null,
            "right": null,
            "top": null,
            "visibility": null,
            "width": null
          }
        },
        "3e052cb88e1b4a489b6cdbc1fa19647e": {
          "model_module": "@jupyter-widgets/base",
          "model_name": "LayoutModel",
          "model_module_version": "1.2.0",
          "state": {
            "_model_module": "@jupyter-widgets/base",
            "_model_module_version": "1.2.0",
            "_model_name": "LayoutModel",
            "_view_count": null,
            "_view_module": "@jupyter-widgets/base",
            "_view_module_version": "1.2.0",
            "_view_name": "LayoutView",
            "align_content": null,
            "align_items": null,
            "align_self": null,
            "border": null,
            "bottom": null,
            "display": null,
            "flex": null,
            "flex_flow": null,
            "grid_area": null,
            "grid_auto_columns": null,
            "grid_auto_flow": null,
            "grid_auto_rows": null,
            "grid_column": null,
            "grid_gap": null,
            "grid_row": null,
            "grid_template_areas": null,
            "grid_template_columns": null,
            "grid_template_rows": null,
            "height": null,
            "justify_content": null,
            "justify_items": null,
            "left": null,
            "margin": null,
            "max_height": null,
            "max_width": null,
            "min_height": null,
            "min_width": null,
            "object_fit": null,
            "object_position": null,
            "order": null,
            "overflow": null,
            "overflow_x": null,
            "overflow_y": null,
            "padding": null,
            "right": null,
            "top": null,
            "visibility": null,
            "width": null
          }
        },
        "a9e161133f174e6290d4e358708374dc": {
          "model_module": "@jupyter-widgets/controls",
          "model_name": "DescriptionStyleModel",
          "model_module_version": "1.5.0",
          "state": {
            "_model_module": "@jupyter-widgets/controls",
            "_model_module_version": "1.5.0",
            "_model_name": "DescriptionStyleModel",
            "_view_count": null,
            "_view_module": "@jupyter-widgets/base",
            "_view_module_version": "1.2.0",
            "_view_name": "StyleView",
            "description_width": ""
          }
        },
        "1b2b574fa39e485f91c503bb71da1f52": {
          "model_module": "@jupyter-widgets/base",
          "model_name": "LayoutModel",
          "model_module_version": "1.2.0",
          "state": {
            "_model_module": "@jupyter-widgets/base",
            "_model_module_version": "1.2.0",
            "_model_name": "LayoutModel",
            "_view_count": null,
            "_view_module": "@jupyter-widgets/base",
            "_view_module_version": "1.2.0",
            "_view_name": "LayoutView",
            "align_content": null,
            "align_items": null,
            "align_self": null,
            "border": null,
            "bottom": null,
            "display": null,
            "flex": null,
            "flex_flow": null,
            "grid_area": null,
            "grid_auto_columns": null,
            "grid_auto_flow": null,
            "grid_auto_rows": null,
            "grid_column": null,
            "grid_gap": null,
            "grid_row": null,
            "grid_template_areas": null,
            "grid_template_columns": null,
            "grid_template_rows": null,
            "height": null,
            "justify_content": null,
            "justify_items": null,
            "left": null,
            "margin": null,
            "max_height": null,
            "max_width": null,
            "min_height": null,
            "min_width": null,
            "object_fit": null,
            "object_position": null,
            "order": null,
            "overflow": null,
            "overflow_x": null,
            "overflow_y": null,
            "padding": null,
            "right": null,
            "top": null,
            "visibility": null,
            "width": null
          }
        },
        "973048f2c5d9441fbc9b427dcdb3c0d5": {
          "model_module": "@jupyter-widgets/controls",
          "model_name": "ProgressStyleModel",
          "model_module_version": "1.5.0",
          "state": {
            "_model_module": "@jupyter-widgets/controls",
            "_model_module_version": "1.5.0",
            "_model_name": "ProgressStyleModel",
            "_view_count": null,
            "_view_module": "@jupyter-widgets/base",
            "_view_module_version": "1.2.0",
            "_view_name": "StyleView",
            "bar_color": null,
            "description_width": ""
          }
        },
        "7dd03d48aa584187bef21dde9f99ea54": {
          "model_module": "@jupyter-widgets/base",
          "model_name": "LayoutModel",
          "model_module_version": "1.2.0",
          "state": {
            "_model_module": "@jupyter-widgets/base",
            "_model_module_version": "1.2.0",
            "_model_name": "LayoutModel",
            "_view_count": null,
            "_view_module": "@jupyter-widgets/base",
            "_view_module_version": "1.2.0",
            "_view_name": "LayoutView",
            "align_content": null,
            "align_items": null,
            "align_self": null,
            "border": null,
            "bottom": null,
            "display": null,
            "flex": null,
            "flex_flow": null,
            "grid_area": null,
            "grid_auto_columns": null,
            "grid_auto_flow": null,
            "grid_auto_rows": null,
            "grid_column": null,
            "grid_gap": null,
            "grid_row": null,
            "grid_template_areas": null,
            "grid_template_columns": null,
            "grid_template_rows": null,
            "height": null,
            "justify_content": null,
            "justify_items": null,
            "left": null,
            "margin": null,
            "max_height": null,
            "max_width": null,
            "min_height": null,
            "min_width": null,
            "object_fit": null,
            "object_position": null,
            "order": null,
            "overflow": null,
            "overflow_x": null,
            "overflow_y": null,
            "padding": null,
            "right": null,
            "top": null,
            "visibility": null,
            "width": null
          }
        },
        "2c141be38a2a4a0887448b4f9b8286d7": {
          "model_module": "@jupyter-widgets/controls",
          "model_name": "DescriptionStyleModel",
          "model_module_version": "1.5.0",
          "state": {
            "_model_module": "@jupyter-widgets/controls",
            "_model_module_version": "1.5.0",
            "_model_name": "DescriptionStyleModel",
            "_view_count": null,
            "_view_module": "@jupyter-widgets/base",
            "_view_module_version": "1.2.0",
            "_view_name": "StyleView",
            "description_width": ""
          }
        },
        "758db3a4293a4a078c0dcf4a5ae9ddfc": {
          "model_module": "@jupyter-widgets/controls",
          "model_name": "HBoxModel",
          "model_module_version": "1.5.0",
          "state": {
            "_dom_classes": [],
            "_model_module": "@jupyter-widgets/controls",
            "_model_module_version": "1.5.0",
            "_model_name": "HBoxModel",
            "_view_count": null,
            "_view_module": "@jupyter-widgets/controls",
            "_view_module_version": "1.5.0",
            "_view_name": "HBoxView",
            "box_style": "",
            "children": [
              "IPY_MODEL_c755b3c1890342af93b5b8020ba50a22",
              "IPY_MODEL_c1cadd4f28004008ad19f28da15dd94f",
              "IPY_MODEL_e7fbf3ae02dc4b28bedb2bf5358d2fd3"
            ],
            "layout": "IPY_MODEL_48fb42fb249a4c179fc4cbcbea61c7b4"
          }
        },
        "c755b3c1890342af93b5b8020ba50a22": {
          "model_module": "@jupyter-widgets/controls",
          "model_name": "HTMLModel",
          "model_module_version": "1.5.0",
          "state": {
            "_dom_classes": [],
            "_model_module": "@jupyter-widgets/controls",
            "_model_module_version": "1.5.0",
            "_model_name": "HTMLModel",
            "_view_count": null,
            "_view_module": "@jupyter-widgets/controls",
            "_view_module_version": "1.5.0",
            "_view_name": "HTMLView",
            "description": "",
            "description_tooltip": null,
            "layout": "IPY_MODEL_cdbece72d8a84c87baf83acede4db2e7",
            "placeholder": "​",
            "style": "IPY_MODEL_100ded446b7a4d5aba9dce02a0c292b2",
            "value": "model.safetensors: 100%"
          }
        },
        "c1cadd4f28004008ad19f28da15dd94f": {
          "model_module": "@jupyter-widgets/controls",
          "model_name": "FloatProgressModel",
          "model_module_version": "1.5.0",
          "state": {
            "_dom_classes": [],
            "_model_module": "@jupyter-widgets/controls",
            "_model_module_version": "1.5.0",
            "_model_name": "FloatProgressModel",
            "_view_count": null,
            "_view_module": "@jupyter-widgets/controls",
            "_view_module_version": "1.5.0",
            "_view_name": "ProgressView",
            "bar_style": "success",
            "description": "",
            "description_tooltip": null,
            "layout": "IPY_MODEL_1486ae16cc5c4594806dbc78ab511c86",
            "max": 440449768,
            "min": 0,
            "orientation": "horizontal",
            "style": "IPY_MODEL_45f468a3d2f745f795bfb8547a823fec",
            "value": 440449768
          }
        },
        "e7fbf3ae02dc4b28bedb2bf5358d2fd3": {
          "model_module": "@jupyter-widgets/controls",
          "model_name": "HTMLModel",
          "model_module_version": "1.5.0",
          "state": {
            "_dom_classes": [],
            "_model_module": "@jupyter-widgets/controls",
            "_model_module_version": "1.5.0",
            "_model_name": "HTMLModel",
            "_view_count": null,
            "_view_module": "@jupyter-widgets/controls",
            "_view_module_version": "1.5.0",
            "_view_name": "HTMLView",
            "description": "",
            "description_tooltip": null,
            "layout": "IPY_MODEL_e3f31fa3e2cb4dcaa6b99fcb790f7db0",
            "placeholder": "​",
            "style": "IPY_MODEL_6e4e4178c4eb4257a18686343371b3fb",
            "value": " 440M/440M [00:20&lt;00:00, 22.7MB/s]"
          }
        },
        "48fb42fb249a4c179fc4cbcbea61c7b4": {
          "model_module": "@jupyter-widgets/base",
          "model_name": "LayoutModel",
          "model_module_version": "1.2.0",
          "state": {
            "_model_module": "@jupyter-widgets/base",
            "_model_module_version": "1.2.0",
            "_model_name": "LayoutModel",
            "_view_count": null,
            "_view_module": "@jupyter-widgets/base",
            "_view_module_version": "1.2.0",
            "_view_name": "LayoutView",
            "align_content": null,
            "align_items": null,
            "align_self": null,
            "border": null,
            "bottom": null,
            "display": null,
            "flex": null,
            "flex_flow": null,
            "grid_area": null,
            "grid_auto_columns": null,
            "grid_auto_flow": null,
            "grid_auto_rows": null,
            "grid_column": null,
            "grid_gap": null,
            "grid_row": null,
            "grid_template_areas": null,
            "grid_template_columns": null,
            "grid_template_rows": null,
            "height": null,
            "justify_content": null,
            "justify_items": null,
            "left": null,
            "margin": null,
            "max_height": null,
            "max_width": null,
            "min_height": null,
            "min_width": null,
            "object_fit": null,
            "object_position": null,
            "order": null,
            "overflow": null,
            "overflow_x": null,
            "overflow_y": null,
            "padding": null,
            "right": null,
            "top": null,
            "visibility": null,
            "width": null
          }
        },
        "cdbece72d8a84c87baf83acede4db2e7": {
          "model_module": "@jupyter-widgets/base",
          "model_name": "LayoutModel",
          "model_module_version": "1.2.0",
          "state": {
            "_model_module": "@jupyter-widgets/base",
            "_model_module_version": "1.2.0",
            "_model_name": "LayoutModel",
            "_view_count": null,
            "_view_module": "@jupyter-widgets/base",
            "_view_module_version": "1.2.0",
            "_view_name": "LayoutView",
            "align_content": null,
            "align_items": null,
            "align_self": null,
            "border": null,
            "bottom": null,
            "display": null,
            "flex": null,
            "flex_flow": null,
            "grid_area": null,
            "grid_auto_columns": null,
            "grid_auto_flow": null,
            "grid_auto_rows": null,
            "grid_column": null,
            "grid_gap": null,
            "grid_row": null,
            "grid_template_areas": null,
            "grid_template_columns": null,
            "grid_template_rows": null,
            "height": null,
            "justify_content": null,
            "justify_items": null,
            "left": null,
            "margin": null,
            "max_height": null,
            "max_width": null,
            "min_height": null,
            "min_width": null,
            "object_fit": null,
            "object_position": null,
            "order": null,
            "overflow": null,
            "overflow_x": null,
            "overflow_y": null,
            "padding": null,
            "right": null,
            "top": null,
            "visibility": null,
            "width": null
          }
        },
        "100ded446b7a4d5aba9dce02a0c292b2": {
          "model_module": "@jupyter-widgets/controls",
          "model_name": "DescriptionStyleModel",
          "model_module_version": "1.5.0",
          "state": {
            "_model_module": "@jupyter-widgets/controls",
            "_model_module_version": "1.5.0",
            "_model_name": "DescriptionStyleModel",
            "_view_count": null,
            "_view_module": "@jupyter-widgets/base",
            "_view_module_version": "1.2.0",
            "_view_name": "StyleView",
            "description_width": ""
          }
        },
        "1486ae16cc5c4594806dbc78ab511c86": {
          "model_module": "@jupyter-widgets/base",
          "model_name": "LayoutModel",
          "model_module_version": "1.2.0",
          "state": {
            "_model_module": "@jupyter-widgets/base",
            "_model_module_version": "1.2.0",
            "_model_name": "LayoutModel",
            "_view_count": null,
            "_view_module": "@jupyter-widgets/base",
            "_view_module_version": "1.2.0",
            "_view_name": "LayoutView",
            "align_content": null,
            "align_items": null,
            "align_self": null,
            "border": null,
            "bottom": null,
            "display": null,
            "flex": null,
            "flex_flow": null,
            "grid_area": null,
            "grid_auto_columns": null,
            "grid_auto_flow": null,
            "grid_auto_rows": null,
            "grid_column": null,
            "grid_gap": null,
            "grid_row": null,
            "grid_template_areas": null,
            "grid_template_columns": null,
            "grid_template_rows": null,
            "height": null,
            "justify_content": null,
            "justify_items": null,
            "left": null,
            "margin": null,
            "max_height": null,
            "max_width": null,
            "min_height": null,
            "min_width": null,
            "object_fit": null,
            "object_position": null,
            "order": null,
            "overflow": null,
            "overflow_x": null,
            "overflow_y": null,
            "padding": null,
            "right": null,
            "top": null,
            "visibility": null,
            "width": null
          }
        },
        "45f468a3d2f745f795bfb8547a823fec": {
          "model_module": "@jupyter-widgets/controls",
          "model_name": "ProgressStyleModel",
          "model_module_version": "1.5.0",
          "state": {
            "_model_module": "@jupyter-widgets/controls",
            "_model_module_version": "1.5.0",
            "_model_name": "ProgressStyleModel",
            "_view_count": null,
            "_view_module": "@jupyter-widgets/base",
            "_view_module_version": "1.2.0",
            "_view_name": "StyleView",
            "bar_color": null,
            "description_width": ""
          }
        },
        "e3f31fa3e2cb4dcaa6b99fcb790f7db0": {
          "model_module": "@jupyter-widgets/base",
          "model_name": "LayoutModel",
          "model_module_version": "1.2.0",
          "state": {
            "_model_module": "@jupyter-widgets/base",
            "_model_module_version": "1.2.0",
            "_model_name": "LayoutModel",
            "_view_count": null,
            "_view_module": "@jupyter-widgets/base",
            "_view_module_version": "1.2.0",
            "_view_name": "LayoutView",
            "align_content": null,
            "align_items": null,
            "align_self": null,
            "border": null,
            "bottom": null,
            "display": null,
            "flex": null,
            "flex_flow": null,
            "grid_area": null,
            "grid_auto_columns": null,
            "grid_auto_flow": null,
            "grid_auto_rows": null,
            "grid_column": null,
            "grid_gap": null,
            "grid_row": null,
            "grid_template_areas": null,
            "grid_template_columns": null,
            "grid_template_rows": null,
            "height": null,
            "justify_content": null,
            "justify_items": null,
            "left": null,
            "margin": null,
            "max_height": null,
            "max_width": null,
            "min_height": null,
            "min_width": null,
            "object_fit": null,
            "object_position": null,
            "order": null,
            "overflow": null,
            "overflow_x": null,
            "overflow_y": null,
            "padding": null,
            "right": null,
            "top": null,
            "visibility": null,
            "width": null
          }
        },
        "6e4e4178c4eb4257a18686343371b3fb": {
          "model_module": "@jupyter-widgets/controls",
          "model_name": "DescriptionStyleModel",
          "model_module_version": "1.5.0",
          "state": {
            "_model_module": "@jupyter-widgets/controls",
            "_model_module_version": "1.5.0",
            "_model_name": "DescriptionStyleModel",
            "_view_count": null,
            "_view_module": "@jupyter-widgets/base",
            "_view_module_version": "1.2.0",
            "_view_name": "StyleView",
            "description_width": ""
          }
        }
      }
    }
  },
  "nbformat": 4,
  "nbformat_minor": 0
}